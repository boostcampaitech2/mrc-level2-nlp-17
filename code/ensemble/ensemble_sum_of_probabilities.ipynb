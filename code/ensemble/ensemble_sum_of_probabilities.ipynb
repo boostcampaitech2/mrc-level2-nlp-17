{
 "cells": [
  {
   "cell_type": "code",
   "execution_count": 6,
   "metadata": {},
   "outputs": [],
   "source": [
    "import os\n",
    "import json\n",
    "from collections import defaultdict"
   ]
  },
  {
   "cell_type": "code",
   "execution_count": 7,
   "metadata": {},
   "outputs": [],
   "source": [
    "nbest_predictions = defaultdict(list)\n",
    "\n",
    "for file in os.listdir(\"./nbest_predictions/\"):\n",
    "    if \"nbest_predictions\" in file:\n",
    "        with open(os.path.join(\"./nbest_predictions/\", file), \"r\", encoding=\"utf-8\") as f:\n",
    "            nbest_prediction = json.load(f)\n",
    "            for key, value in nbest_prediction.items():\n",
    "                nbest_predictions[key].extend(value)"
   ]
  },
  {
   "cell_type": "code",
   "execution_count": 8,
   "metadata": {},
   "outputs": [
    {
     "data": {
      "text/plain": [
       "[{'start_logit': 7.005879878997803,\n",
       "  'end_logit': 3.4004147052764893,\n",
       "  'text': '40억년전',\n",
       "  'probability': 0.6204570531845093},\n",
       " {'start_logit': 7.005879878997803,\n",
       "  'end_logit': 2.879098653793335,\n",
       "  'text': '40억년',\n",
       "  'probability': 0.36838915944099426},\n",
       " {'start_logit': 7.005879878997803,\n",
       "  'end_logit': -1.2969547510147095,\n",
       "  'text': '40',\n",
       "  'probability': 0.005658092442899942}]"
      ]
     },
     "execution_count": 8,
     "metadata": {},
     "output_type": "execute_result"
    }
   ],
   "source": [
    "nbest_predictions[\"mrc-1-000653\"][:3]"
   ]
  },
  {
   "cell_type": "code",
   "execution_count": 9,
   "metadata": {},
   "outputs": [],
   "source": [
    "predictions = {}\n",
    "\n",
    "for key, value in nbest_predictions.items():\n",
    "    sum_of_probabilities = defaultdict(float)\n",
    "    \n",
    "    for v in value:\n",
    "        sum_of_probabilities[v[\"text\"]] += v[\"probability\"]\n",
    "    \n",
    "    prediction = sorted(sum_of_probabilities.items(), key=lambda x:x[1], reverse=True)[0]\n",
    "    predictions[key] = prediction[0]"
   ]
  },
  {
   "cell_type": "code",
   "execution_count": 10,
   "metadata": {},
   "outputs": [],
   "source": [
    "with open(\"predictions.json\", \"w\", encoding=\"utf-8\") as f:\n",
    "    f.write(json.dumps(predictions, indent=4, ensure_ascii=False) + \"\\n\")"
   ]
  },
  {
   "cell_type": "code",
   "execution_count": null,
   "metadata": {},
   "outputs": [],
   "source": []
  }
 ],
 "metadata": {
  "interpreter": {
   "hash": "d4d1e4263499bec80672ea0156c357c1ee493ec2b1c70f0acce89fc37c4a6abe"
  },
  "kernelspec": {
   "display_name": "Python 3.8.5 64-bit ('base': conda)",
   "name": "python3"
  },
  "language_info": {
   "codemirror_mode": {
    "name": "ipython",
    "version": 3
   },
   "file_extension": ".py",
   "mimetype": "text/x-python",
   "name": "python",
   "nbconvert_exporter": "python",
   "pygments_lexer": "ipython3",
   "version": "3.8.5"
  }
 },
 "nbformat": 4,
 "nbformat_minor": 4
}
