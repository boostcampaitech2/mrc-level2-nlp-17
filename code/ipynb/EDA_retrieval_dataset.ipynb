{
 "cells": [
  {
   "cell_type": "markdown",
   "id": "2bebc256-f50d-4d21-97ef-4bb8a18c0c71",
   "metadata": {},
   "source": [
    "# Retrieval Dataset"
   ]
  },
  {
   "cell_type": "code",
   "execution_count": 41,
   "id": "562db7a0-717f-4906-b71f-8373e6c66d06",
   "metadata": {},
   "outputs": [],
   "source": [
    "#import packages\n",
    "import pandas as pd\n",
    "import numpy as np\n",
    "import os\n",
    "import math\n",
    "\n",
    "# data visualizaion\n",
    "import seaborn as sns\n",
    "import matplotlib.pyplot as plt\n",
    "\n",
    "from typing import List, Set, Dict, Tuple\n",
    "\n",
    "# pip install missingno\n",
    "import missingno as msno\n",
    "import pprint\n",
    "\n",
    "\n",
    "# load for MRC datasets\n",
    "from datasets import load_from_disk\n",
    "\n",
    "# load for Retrieval dataset\n",
    "import json\n",
    "\n",
    "DATA_PATH = \"../../data/\""
   ]
  },
  {
   "cell_type": "code",
   "execution_count": 43,
   "id": "8f3e9954-d3a4-4b71-9cbe-afc0e6735600",
   "metadata": {},
   "outputs": [
    {
     "name": "stdout",
     "output_type": "stream",
     "text": [
      "Index(['text', 'corpus_source', 'url', 'domain', 'title', 'author', 'html',\n",
      "       'document_id'],\n",
      "      dtype='object')\n",
      "********************\n",
      "Retrieval Dataset Count : 60613\n"
     ]
    }
   ],
   "source": [
    "with open(os.path.join(DATA_PATH, \"wikipedia_documents.json\"), \"r\", encoding=\"utf-8\") as f:\n",
    "    wiki = json.load(f)\n",
    "    \n",
    "wiki_dataset = pd.DataFrame(wiki)\n",
    "wiki_dataset = wiki_dataset.transpose()\n",
    "\n",
    "pprint.pprint(wiki_dataset.columns)\n",
    "print(f\"*\"*20)\n",
    "print(f\"Retrieval Dataset Count : {len(wiki_dataset.index)}\")"
   ]
  },
  {
   "cell_type": "markdown",
   "id": "05ab2d43-9bc7-4c43-89fb-03d67cd1cf85",
   "metadata": {},
   "source": [
    "- 데이터 구조\n",
    "    - text: 문서\n",
    "    - corpus_source: 문서 출처\n",
    "    - url: 문서 출처 주소\n",
    "    - domain : 문서의 domain\n",
    "    - title: 문서의 제목\n",
    "    - author : wjwk\n",
    "    - html: html\n",
    "    - document_id: 문서의 고유 id\n"
   ]
  },
  {
   "cell_type": "markdown",
   "id": "16bc7dbf-cb7b-4b75-a2cb-eaecc5952acc",
   "metadata": {},
   "source": [
    "## 데이터 개요"
   ]
  },
  {
   "cell_type": "code",
   "execution_count": 25,
   "id": "2a909711-21c3-414d-a20f-fd9a8190c79d",
   "metadata": {},
   "outputs": [
    {
     "data": {
      "text/plain": [
       "{'text': '이 문서는 나라 목록이며, 전 세계 206개 나라의 각 현황과 주권 승인 정보를 개요 형태로 나열하고 있다.\\n\\n이 목록은 명료화를 위해 두 부분으로 나뉘어 있다.\\n\\n# 첫 번째 부분은 바티칸 시국과 팔레스타인을 포함하여 유엔 등 국제 기구에 가입되어 국제적인 승인을 널리 받았다고 여기는 195개 나라를 나열하고 있다.\\n# 두 번째 부분은 일부 지역의 주권을 사실상 (데 팍토) 행사하고 있지만, 아직 국제적인 승인을 널리 받지 않았다고 여기는 11개 나라를 나열하고 있다.\\n\\n두 목록은 모두 가나다 순이다.\\n\\n일부 국가의 경우 국가로서의 자격에 논쟁의 여부가 있으며, 이 때문에 이러한 목록을 엮는 것은 매우 어렵고 논란이 생길 수 있는 과정이다. 이 목록을 구성하고 있는 국가를 선정하는 기준에 대한 정보는 \"포함 기준\" 단락을 통해 설명하였다. 나라에 대한 일반적인 정보는 \"국가\" 문서에서 설명하고 있다.',\n",
       " 'corpus_source': '위키피디아',\n",
       " 'url': 'TODO',\n",
       " 'domain': None,\n",
       " 'title': '나라 목록',\n",
       " 'author': None,\n",
       " 'html': None,\n",
       " 'document_id': 0}"
      ]
     },
     "execution_count": 25,
     "metadata": {},
     "output_type": "execute_result"
    }
   ],
   "source": [
    "wiki_dataset.iloc[0].to_dict()"
   ]
  },
  {
   "cell_type": "markdown",
   "id": "a6fdd49c-55a1-42bc-9129-9be38fedc0c2",
   "metadata": {},
   "source": [
    "## 결측치 확인"
   ]
  },
  {
   "cell_type": "code",
   "execution_count": 26,
   "id": "3b719f15-a167-4a5e-b6ed-1fdc22af6e43",
   "metadata": {},
   "outputs": [
    {
     "data": {
      "text/plain": [
       "<AxesSubplot:>"
      ]
     },
     "execution_count": 26,
     "metadata": {},
     "output_type": "execute_result"
    },
    {
     "data": {
      "image/png": "[encoded data removed]",
      "text/plain": [
       "<Figure size 1800x720 with 2 Axes>"
      ]
     },
     "metadata": {
      "needs_background": "light"
     },
     "output_type": "display_data"
    }
   ],
   "source": [
    "# 결측치 확인\n",
    "msno.matrix(wiki_dataset)"
   ]
  },
  {
   "cell_type": "markdown",
   "id": "096379a0-2f29-4a03-93ae-bff1f109e11b",
   "metadata": {},
   "source": [
    "url에서는 결측치를 보인다.  \n",
    "author, html은 값이 없음을 보인다.\n"
   ]
  },
  {
   "cell_type": "markdown",
   "id": "8ad7146e-5d74-4927-9294-b02cb3fc8e30",
   "metadata": {},
   "source": [
    "## 데이터 중복 확인"
   ]
  },
  {
   "cell_type": "code",
   "execution_count": 27,
   "id": "6a40166b-fa85-4398-b986-ab73f2317c70",
   "metadata": {},
   "outputs": [
    {
     "data": {
      "text/html": [
       "<div>\n",
       "<style scoped>\n",
       "    .dataframe tbody tr th:only-of-type {\n",
       "        vertical-align: middle;\n",
       "    }\n",
       "\n",
       "    .dataframe tbody tr th {\n",
       "        vertical-align: top;\n",
       "    }\n",
       "\n",
       "    .dataframe thead th {\n",
       "        text-align: right;\n",
       "    }\n",
       "</style>\n",
       "<table border=\"1\" class=\"dataframe\">\n",
       "  <thead>\n",
       "    <tr style=\"text-align: right;\">\n",
       "      <th></th>\n",
       "      <th>text</th>\n",
       "      <th>corpus_source</th>\n",
       "      <th>url</th>\n",
       "      <th>domain</th>\n",
       "      <th>title</th>\n",
       "      <th>author</th>\n",
       "      <th>html</th>\n",
       "      <th>document_id</th>\n",
       "    </tr>\n",
       "  </thead>\n",
       "  <tbody>\n",
       "    <tr>\n",
       "      <th>count</th>\n",
       "      <td>60613</td>\n",
       "      <td>60613</td>\n",
       "      <td>4554</td>\n",
       "      <td>0</td>\n",
       "      <td>60613</td>\n",
       "      <td>0</td>\n",
       "      <td>0</td>\n",
       "      <td>60613</td>\n",
       "    </tr>\n",
       "    <tr>\n",
       "      <th>unique</th>\n",
       "      <td>56737</td>\n",
       "      <td>1</td>\n",
       "      <td>1</td>\n",
       "      <td>0</td>\n",
       "      <td>31755</td>\n",
       "      <td>0</td>\n",
       "      <td>0</td>\n",
       "      <td>60613</td>\n",
       "    </tr>\n",
       "    <tr>\n",
       "      <th>top</th>\n",
       "      <td>세계보건기구(WHO)는 12일 2019년 12월 31일 처음 WHO의 주목을 받았던...</td>\n",
       "      <td>위키피디아</td>\n",
       "      <td>TODO</td>\n",
       "      <td>NaN</td>\n",
       "      <td>장면</td>\n",
       "      <td>NaN</td>\n",
       "      <td>NaN</td>\n",
       "      <td>60612</td>\n",
       "    </tr>\n",
       "    <tr>\n",
       "      <th>freq</th>\n",
       "      <td>40</td>\n",
       "      <td>60613</td>\n",
       "      <td>4554</td>\n",
       "      <td>NaN</td>\n",
       "      <td>146</td>\n",
       "      <td>NaN</td>\n",
       "      <td>NaN</td>\n",
       "      <td>1</td>\n",
       "    </tr>\n",
       "  </tbody>\n",
       "</table>\n",
       "</div>"
      ],
      "text/plain": [
       "                                                     text corpus_source   url  \\\n",
       "count                                               60613         60613  4554   \n",
       "unique                                              56737             1     1   \n",
       "top     세계보건기구(WHO)는 12일 2019년 12월 31일 처음 WHO의 주목을 받았던...         위키피디아  TODO   \n",
       "freq                                                   40         60613  4554   \n",
       "\n",
       "       domain  title author html  document_id  \n",
       "count       0  60613      0    0        60613  \n",
       "unique      0  31755      0    0        60613  \n",
       "top       NaN     장면    NaN  NaN        60612  \n",
       "freq      NaN    146    NaN  NaN            1  "
      ]
     },
     "execution_count": 27,
     "metadata": {},
     "output_type": "execute_result"
    }
   ],
   "source": [
    "wiki_dataset.describe(include='all')"
   ]
  },
  {
   "cell_type": "markdown",
   "id": "72df4e03-5019-47b6-a53e-fffa6712678b",
   "metadata": {},
   "source": [
    "- 중복이 있는 컬럼\n",
    "    - text\n",
    "    - title\n",
    "    - corpus_source\n",
    "- 중복없는 컬럼\n",
    "    - document_id\n",
    "\n",
    "\n",
    "이 중 title, title 에서의 중복 형태를 알아본다.\n"
   ]
  },
  {
   "cell_type": "code",
   "execution_count": 28,
   "id": "750193dd-9178-4ed9-bf62-403477e50292",
   "metadata": {},
   "outputs": [],
   "source": [
    "def display_groupby_duplicated(dataset : pd.DataFrame , n : int , column_list : List[str]) -> pd.DataFrame:\n",
    "    '''\n",
    "    Usage:\n",
    "        dataset: groupby 대상\n",
    "        n : groupby에서 n개 이상 중복된 개수를 출력\n",
    "        column_list : column 이름을 담을 list\n",
    "    '''\n",
    "    duplicate_results = pd.concat(g for _, g in dataset.groupby(column_list) if len(g) >= n).sort_values(column_list)\n",
    "    column_name = \",\".join(column_list)\n",
    "    #print(type(column_name))\n",
    "    print(f\"{column_name} group by count : {len(duplicate_results.index)}\")\n",
    "    \n",
    "    return duplicate_results\n",
    "    "
   ]
  },
  {
   "cell_type": "markdown",
   "id": "fb7c3e7f-d525-4e2c-b07d-54c842acb37c",
   "metadata": {},
   "source": [
    "### title"
   ]
  },
  {
   "cell_type": "code",
   "execution_count": 29,
   "id": "759756b6-5f3b-4257-960f-696cb2b845fe",
   "metadata": {},
   "outputs": [
    {
     "name": "stdout",
     "output_type": "stream",
     "text": [
      "title group by count : 40595\n"
     ]
    },
    {
     "data": {
      "text/html": [
       "<div>\n",
       "<style scoped>\n",
       "    .dataframe tbody tr th:only-of-type {\n",
       "        vertical-align: middle;\n",
       "    }\n",
       "\n",
       "    .dataframe tbody tr th {\n",
       "        vertical-align: top;\n",
       "    }\n",
       "\n",
       "    .dataframe thead th {\n",
       "        text-align: right;\n",
       "    }\n",
       "</style>\n",
       "<table border=\"1\" class=\"dataframe\">\n",
       "  <thead>\n",
       "    <tr style=\"text-align: right;\">\n",
       "      <th></th>\n",
       "      <th>text</th>\n",
       "      <th>corpus_source</th>\n",
       "      <th>url</th>\n",
       "      <th>domain</th>\n",
       "      <th>title</th>\n",
       "      <th>author</th>\n",
       "      <th>html</th>\n",
       "      <th>document_id</th>\n",
       "    </tr>\n",
       "  </thead>\n",
       "  <tbody>\n",
       "    <tr>\n",
       "      <th>39917</th>\n",
       "      <td>ǃ쿵어가 포함된 카어족, 코이산 제어를 연구하는 학자들이 언어를 분류한 방식이 서로...</td>\n",
       "      <td>위키피디아</td>\n",
       "      <td>None</td>\n",
       "      <td>None</td>\n",
       "      <td>!쿵어</td>\n",
       "      <td>None</td>\n",
       "      <td>None</td>\n",
       "      <td>39917</td>\n",
       "    </tr>\n",
       "    <tr>\n",
       "      <th>39918</th>\n",
       "      <td>다양한 ǃ쿵어들을 묶은 주어(Ju)는 흡착음을 사용하는 언어 중 코이코이어(Khoe...</td>\n",
       "      <td>위키피디아</td>\n",
       "      <td>None</td>\n",
       "      <td>None</td>\n",
       "      <td>!쿵어</td>\n",
       "      <td>None</td>\n",
       "      <td>None</td>\n",
       "      <td>39918</td>\n",
       "    </tr>\n",
       "    <tr>\n",
       "      <th>58025</th>\n",
       "      <td>2002 AW|197은 2002년 1월 10일 캘리포니아 팔로마 천문대에서 마이클 ...</td>\n",
       "      <td>위키피디아</td>\n",
       "      <td>None</td>\n",
       "      <td>None</td>\n",
       "      <td>(55565) 2002 AW197</td>\n",
       "      <td>None</td>\n",
       "      <td>None</td>\n",
       "      <td>58025</td>\n",
       "    </tr>\n",
       "    <tr>\n",
       "      <th>58026</th>\n",
       "      <td>기존에는 다른 카이퍼대 천체와 동일하게 반사율을 0.04로 추정하여 지름을 1,50...</td>\n",
       "      <td>위키피디아</td>\n",
       "      <td>None</td>\n",
       "      <td>None</td>\n",
       "      <td>(55565) 2002 AW197</td>\n",
       "      <td>None</td>\n",
       "      <td>None</td>\n",
       "      <td>58026</td>\n",
       "    </tr>\n",
       "    <tr>\n",
       "      <th>60091</th>\n",
       "      <td>〈(Won't You Come Home) Bill Bailey〉는 1902년에 출판...</td>\n",
       "      <td>위키피디아</td>\n",
       "      <td>None</td>\n",
       "      <td>None</td>\n",
       "      <td>(Won't You Come Home) Bill Bailey</td>\n",
       "      <td>None</td>\n",
       "      <td>None</td>\n",
       "      <td>60091</td>\n",
       "    </tr>\n",
       "  </tbody>\n",
       "</table>\n",
       "</div>"
      ],
      "text/plain": [
       "                                                    text corpus_source   url  \\\n",
       "39917  ǃ쿵어가 포함된 카어족, 코이산 제어를 연구하는 학자들이 언어를 분류한 방식이 서로...         위키피디아  None   \n",
       "39918  다양한 ǃ쿵어들을 묶은 주어(Ju)는 흡착음을 사용하는 언어 중 코이코이어(Khoe...         위키피디아  None   \n",
       "58025  2002 AW|197은 2002년 1월 10일 캘리포니아 팔로마 천문대에서 마이클 ...         위키피디아  None   \n",
       "58026  기존에는 다른 카이퍼대 천체와 동일하게 반사율을 0.04로 추정하여 지름을 1,50...         위키피디아  None   \n",
       "60091  〈(Won't You Come Home) Bill Bailey〉는 1902년에 출판...         위키피디아  None   \n",
       "\n",
       "      domain                              title author  html document_id  \n",
       "39917   None                                !쿵어   None  None       39917  \n",
       "39918   None                                !쿵어   None  None       39918  \n",
       "58025   None                 (55565) 2002 AW197   None  None       58025  \n",
       "58026   None                 (55565) 2002 AW197   None  None       58026  \n",
       "60091   None  (Won't You Come Home) Bill Bailey   None  None       60091  "
      ]
     },
     "metadata": {},
     "output_type": "display_data"
    }
   ],
   "source": [
    "# title \n",
    "duplicate_results = display_groupby_duplicated(wiki_dataset, 2, [\"title\"])\n",
    "display(duplicate_results.head())"
   ]
  },
  {
   "cell_type": "markdown",
   "id": "a911e3ce-ee9a-4cdc-8aba-be1e6aff736f",
   "metadata": {},
   "source": [
    "### text"
   ]
  },
  {
   "cell_type": "code",
   "execution_count": 30,
   "id": "72c008aa-df16-43b4-a731-6c8891b94d82",
   "metadata": {},
   "outputs": [
    {
     "name": "stdout",
     "output_type": "stream",
     "text": [
      "text group by count : 7677\n"
     ]
    },
    {
     "data": {
      "text/html": [
       "<div>\n",
       "<style scoped>\n",
       "    .dataframe tbody tr th:only-of-type {\n",
       "        vertical-align: middle;\n",
       "    }\n",
       "\n",
       "    .dataframe tbody tr th {\n",
       "        vertical-align: top;\n",
       "    }\n",
       "\n",
       "    .dataframe thead th {\n",
       "        text-align: right;\n",
       "    }\n",
       "</style>\n",
       "<table border=\"1\" class=\"dataframe\">\n",
       "  <thead>\n",
       "    <tr style=\"text-align: right;\">\n",
       "      <th></th>\n",
       "      <th>text</th>\n",
       "      <th>corpus_source</th>\n",
       "      <th>url</th>\n",
       "      <th>domain</th>\n",
       "      <th>title</th>\n",
       "      <th>author</th>\n",
       "      <th>html</th>\n",
       "      <th>document_id</th>\n",
       "    </tr>\n",
       "  </thead>\n",
       "  <tbody>\n",
       "    <tr>\n",
       "      <th>3859</th>\n",
       "      <td>\"Robots.txt\"는 이 문서를 가리킵니다. 위키백과의 Robots.txt의 파...</td>\n",
       "      <td>위키피디아</td>\n",
       "      <td>TODO</td>\n",
       "      <td>None</td>\n",
       "      <td>로봇 배제 표준</td>\n",
       "      <td>None</td>\n",
       "      <td>None</td>\n",
       "      <td>3859</td>\n",
       "    </tr>\n",
       "    <tr>\n",
       "      <th>8413</th>\n",
       "      <td>\"Robots.txt\"는 이 문서를 가리킵니다. 위키백과의 Robots.txt의 파...</td>\n",
       "      <td>위키피디아</td>\n",
       "      <td>None</td>\n",
       "      <td>None</td>\n",
       "      <td>로봇 배제 표준</td>\n",
       "      <td>None</td>\n",
       "      <td>None</td>\n",
       "      <td>8413</td>\n",
       "    </tr>\n",
       "    <tr>\n",
       "      <th>2319</th>\n",
       "      <td>\"들어오지 못하게, 나가지 못하게, 나가도 쓰지 못하게”라는 삼성SDS 고유의 보안...</td>\n",
       "      <td>위키피디아</td>\n",
       "      <td>TODO</td>\n",
       "      <td>None</td>\n",
       "      <td>삼성SDS</td>\n",
       "      <td>None</td>\n",
       "      <td>None</td>\n",
       "      <td>2319</td>\n",
       "    </tr>\n",
       "    <tr>\n",
       "      <th>6873</th>\n",
       "      <td>\"들어오지 못하게, 나가지 못하게, 나가도 쓰지 못하게”라는 삼성SDS 고유의 보안...</td>\n",
       "      <td>위키피디아</td>\n",
       "      <td>None</td>\n",
       "      <td>None</td>\n",
       "      <td>삼성SDS</td>\n",
       "      <td>None</td>\n",
       "      <td>None</td>\n",
       "      <td>6873</td>\n",
       "    </tr>\n",
       "    <tr>\n",
       "      <th>3744</th>\n",
       "      <td>\"아미타불\"이라는 낱말은 무량광(無量光: 헤아릴 수 없는 광명을 가진 것)의 뜻인 ...</td>\n",
       "      <td>위키피디아</td>\n",
       "      <td>TODO</td>\n",
       "      <td>None</td>\n",
       "      <td>아미타불</td>\n",
       "      <td>None</td>\n",
       "      <td>None</td>\n",
       "      <td>3744</td>\n",
       "    </tr>\n",
       "  </tbody>\n",
       "</table>\n",
       "</div>"
      ],
      "text/plain": [
       "                                                   text corpus_source   url  \\\n",
       "3859  \"Robots.txt\"는 이 문서를 가리킵니다. 위키백과의 Robots.txt의 파...         위키피디아  TODO   \n",
       "8413  \"Robots.txt\"는 이 문서를 가리킵니다. 위키백과의 Robots.txt의 파...         위키피디아  None   \n",
       "2319  \"들어오지 못하게, 나가지 못하게, 나가도 쓰지 못하게”라는 삼성SDS 고유의 보안...         위키피디아  TODO   \n",
       "6873  \"들어오지 못하게, 나가지 못하게, 나가도 쓰지 못하게”라는 삼성SDS 고유의 보안...         위키피디아  None   \n",
       "3744  \"아미타불\"이라는 낱말은 무량광(無量光: 헤아릴 수 없는 광명을 가진 것)의 뜻인 ...         위키피디아  TODO   \n",
       "\n",
       "     domain     title author  html document_id  \n",
       "3859   None  로봇 배제 표준   None  None        3859  \n",
       "8413   None  로봇 배제 표준   None  None        8413  \n",
       "2319   None     삼성SDS   None  None        2319  \n",
       "6873   None     삼성SDS   None  None        6873  \n",
       "3744   None      아미타불   None  None        3744  "
      ]
     },
     "metadata": {},
     "output_type": "display_data"
    }
   ],
   "source": [
    "# title \n",
    "duplicate_results = display_groupby_duplicated(wiki_dataset, 2, [\"text\"])\n",
    "display(duplicate_results.head())"
   ]
  },
  {
   "cell_type": "markdown",
   "id": "13033cd5-fef1-4403-a902-1836364c0764",
   "metadata": {},
   "source": [
    "### conclusion"
   ]
  },
  {
   "cell_type": "markdown",
   "id": "bfd605f6-9458-4514-9bd9-e53c58956095",
   "metadata": {},
   "source": [
    "title에서는 많은 부분들이 중복됨을 보인다.\n",
    "text에서도 동일한 문장들이 보이고 있으나, document id는 다름도 보여주고 있다.\n",
    "\n",
    "MRC와 다르게, Retrieval의 경우 text가 필요로 하기 때문에 MRC데이터와는 다르게 중복 제거를 해야함을 보인다.\n",
    "\n"
   ]
  },
  {
   "cell_type": "code",
   "execution_count": 31,
   "id": "abb80ad3-081e-40ae-8014-d57557714dc6",
   "metadata": {},
   "outputs": [],
   "source": [
    "# 필요없는 컬럼 제거\n",
    "wiki_dataset = wiki_dataset.loc[:, ['text','title']]\n",
    "# 중복 제거.\n",
    "# title은 중복에 대하여 허용할 필요가 있으므로., text에 대해서 제거\n",
    "wiki_dataset = wiki_dataset.drop_duplicates(['text'], keep = 'first', ignore_index = True)\n"
   ]
  },
  {
   "cell_type": "code",
   "execution_count": 32,
   "id": "cc7fa18c-2109-4057-87de-e93fefca435c",
   "metadata": {},
   "outputs": [
    {
     "data": {
      "text/html": [
       "<div>\n",
       "<style scoped>\n",
       "    .dataframe tbody tr th:only-of-type {\n",
       "        vertical-align: middle;\n",
       "    }\n",
       "\n",
       "    .dataframe tbody tr th {\n",
       "        vertical-align: top;\n",
       "    }\n",
       "\n",
       "    .dataframe thead th {\n",
       "        text-align: right;\n",
       "    }\n",
       "</style>\n",
       "<table border=\"1\" class=\"dataframe\">\n",
       "  <thead>\n",
       "    <tr style=\"text-align: right;\">\n",
       "      <th></th>\n",
       "      <th>text</th>\n",
       "      <th>title</th>\n",
       "    </tr>\n",
       "  </thead>\n",
       "  <tbody>\n",
       "    <tr>\n",
       "      <th>0</th>\n",
       "      <td>이 문서는 나라 목록이며, 전 세계 206개 나라의 각 현황과 주권 승인 정보를 개...</td>\n",
       "      <td>나라 목록</td>\n",
       "    </tr>\n",
       "    <tr>\n",
       "      <th>1</th>\n",
       "      <td>이 목록에 실린 국가 기준은 1933년 몬테비데오 협약 1장을 참고로 하였다. 협정...</td>\n",
       "      <td>나라 목록</td>\n",
       "    </tr>\n",
       "    <tr>\n",
       "      <th>2</th>\n",
       "      <td>현 서울특별시 종로구 서린동 (구 일제 강점기 경기도 경성부 서린정) 출신이다. 친...</td>\n",
       "      <td>백남준</td>\n",
       "    </tr>\n",
       "    <tr>\n",
       "      <th>3</th>\n",
       "      <td>아오조라 문고(靑空文庫, あおぞらぶんこ|아오조라 분고)는 ‘일본어판 구텐베르크 프로...</td>\n",
       "      <td>아오조라 문고</td>\n",
       "    </tr>\n",
       "    <tr>\n",
       "      <th>4</th>\n",
       "      <td>저자 사망 이후 50년이 지나 저작권이 소멸한 메이지 시대부터 쇼와 시대 초기까지의...</td>\n",
       "      <td>아오조라 문고</td>\n",
       "    </tr>\n",
       "  </tbody>\n",
       "</table>\n",
       "</div>"
      ],
      "text/plain": [
       "                                                text    title\n",
       "0  이 문서는 나라 목록이며, 전 세계 206개 나라의 각 현황과 주권 승인 정보를 개...    나라 목록\n",
       "1  이 목록에 실린 국가 기준은 1933년 몬테비데오 협약 1장을 참고로 하였다. 협정...    나라 목록\n",
       "2  현 서울특별시 종로구 서린동 (구 일제 강점기 경기도 경성부 서린정) 출신이다. 친...      백남준\n",
       "3  아오조라 문고(靑空文庫, あおぞらぶんこ|아오조라 분고)는 ‘일본어판 구텐베르크 프로...  아오조라 문고\n",
       "4  저자 사망 이후 50년이 지나 저작권이 소멸한 메이지 시대부터 쇼와 시대 초기까지의...  아오조라 문고"
      ]
     },
     "metadata": {},
     "output_type": "display_data"
    },
    {
     "data": {
      "text/html": [
       "<div>\n",
       "<style scoped>\n",
       "    .dataframe tbody tr th:only-of-type {\n",
       "        vertical-align: middle;\n",
       "    }\n",
       "\n",
       "    .dataframe tbody tr th {\n",
       "        vertical-align: top;\n",
       "    }\n",
       "\n",
       "    .dataframe thead th {\n",
       "        text-align: right;\n",
       "    }\n",
       "</style>\n",
       "<table border=\"1\" class=\"dataframe\">\n",
       "  <thead>\n",
       "    <tr style=\"text-align: right;\">\n",
       "      <th></th>\n",
       "      <th>text</th>\n",
       "      <th>title</th>\n",
       "    </tr>\n",
       "  </thead>\n",
       "  <tbody>\n",
       "    <tr>\n",
       "      <th>count</th>\n",
       "      <td>56737</td>\n",
       "      <td>56737</td>\n",
       "    </tr>\n",
       "    <tr>\n",
       "      <th>unique</th>\n",
       "      <td>56737</td>\n",
       "      <td>31726</td>\n",
       "    </tr>\n",
       "    <tr>\n",
       "      <th>top</th>\n",
       "      <td>아리안(Ariane) 시리즈는 유럽 우주국(European Space Agency,...</td>\n",
       "      <td>윤치호</td>\n",
       "    </tr>\n",
       "    <tr>\n",
       "      <th>freq</th>\n",
       "      <td>1</td>\n",
       "      <td>107</td>\n",
       "    </tr>\n",
       "  </tbody>\n",
       "</table>\n",
       "</div>"
      ],
      "text/plain": [
       "                                                     text  title\n",
       "count                                               56737  56737\n",
       "unique                                              56737  31726\n",
       "top     아리안(Ariane) 시리즈는 유럽 우주국(European Space Agency,...    윤치호\n",
       "freq                                                    1    107"
      ]
     },
     "execution_count": 32,
     "metadata": {},
     "output_type": "execute_result"
    }
   ],
   "source": [
    "# 제거 후\n",
    "display(wiki_dataset.head())\n",
    "wiki_dataset.describe(include='all')"
   ]
  },
  {
   "cell_type": "markdown",
   "id": "310e0579-4581-4b12-9926-753628309035",
   "metadata": {},
   "source": [
    "## wiki_dataset : 컬럼 별 길이"
   ]
  },
  {
   "cell_type": "markdown",
   "id": "73aae4cd-d742-49bf-98b6-9967fc3f9fa7",
   "metadata": {},
   "source": [
    "### text"
   ]
  },
  {
   "cell_type": "code",
   "execution_count": 38,
   "id": "c1d7b15b-4ef9-45b9-b6fb-28ae5d97b792",
   "metadata": {},
   "outputs": [
    {
     "data": {
      "image/png": "[encoded data removed]",
      "text/plain": [
       "<Figure size 1728x648 with 2 Axes>"
      ]
     },
     "metadata": {
      "needs_background": "light"
     },
     "output_type": "display_data"
    },
    {
     "data": {
      "text/plain": [
       "count    56737.000000\n",
       "mean       750.820593\n",
       "std        698.576330\n",
       "min        184.000000\n",
       "25%        416.000000\n",
       "50%        578.000000\n",
       "75%        856.000000\n",
       "max      46099.000000\n",
       "Name: text_length, dtype: float64"
      ]
     },
     "metadata": {},
     "output_type": "display_data"
    },
    {
     "name": "stdout",
     "output_type": "stream",
     "text": [
      "******************************\n",
      "max text_length : 46099\n"
     ]
    },
    {
     "data": {
      "text/html": [
       "<div>\n",
       "<style scoped>\n",
       "    .dataframe tbody tr th:only-of-type {\n",
       "        vertical-align: middle;\n",
       "    }\n",
       "\n",
       "    .dataframe tbody tr th {\n",
       "        vertical-align: top;\n",
       "    }\n",
       "\n",
       "    .dataframe thead th {\n",
       "        text-align: right;\n",
       "    }\n",
       "</style>\n",
       "<table border=\"1\" class=\"dataframe\">\n",
       "  <thead>\n",
       "    <tr style=\"text-align: right;\">\n",
       "      <th></th>\n",
       "      <th>text</th>\n",
       "      <th>title</th>\n",
       "      <th>text_length</th>\n",
       "      <th>text_length_group</th>\n",
       "      <th>title_length</th>\n",
       "      <th>title_length_group</th>\n",
       "    </tr>\n",
       "  </thead>\n",
       "  <tbody>\n",
       "    <tr>\n",
       "      <th>4534</th>\n",
       "      <td>어딘 실이니 례예 여재라\\n\\n○ 呂滎公名希哲, 字原明. 申國正獻公之長子. 正...</td>\n",
       "      <td>소학언해</td>\n",
       "      <td>46099</td>\n",
       "      <td>47000</td>\n",
       "      <td>4</td>\n",
       "      <td>5</td>\n",
       "    </tr>\n",
       "  </tbody>\n",
       "</table>\n",
       "</div>"
      ],
      "text/plain": [
       "                                                   text title  text_length  \\\n",
       "4534  어딘 실이니 례예 여재라\\n\\n○ 呂滎公名希哲, 字原明. 申國正獻公之長子. 正...  소학언해        46099   \n",
       "\n",
       "      text_length_group  title_length  title_length_group  \n",
       "4534              47000             4                   5  "
      ]
     },
     "execution_count": 38,
     "metadata": {},
     "output_type": "execute_result"
    }
   ],
   "source": [
    "# text\n",
    "wiki_dataset['text_length'] = wiki_dataset['text'].map(str).apply(len)\n",
    "\n",
    "min = 1000 # wiki_dataset['text_length'].min()\n",
    "\n",
    "min = round(min,(-1)*(len(str(min))-1))\n",
    "interval = pow(10,(len(str(min)) - 1))\n",
    "\n",
    "wiki_dataset['text_length_group'] = wiki_dataset['text'].map(lambda x : min + ((len(x)-min)//interval * interval) + interval )\n",
    "\n",
    "\n",
    "fig, axes = plt.subplots(1, 2, figsize=(24, 9))\n",
    "sns.boxplot(x = 'text_length', \n",
    "            data = wiki_dataset, \n",
    "            palette = \"Reds\", \n",
    "            ax = axes[0],\n",
    "            fliersize = 3\n",
    "           )\n",
    "\n",
    "axes[0].set_title('text_length')\n",
    "\n",
    "sns.countplot(x = 'text_length_group', \n",
    "              data = wiki_dataset,\n",
    "              order = sorted(wiki_dataset['text_length_group'].unique()),\n",
    "              # palette = \"Blues\",\n",
    "              ax = axes[1],\n",
    "           )\n",
    "\n",
    "axes[1].set_title('text_length_group')\n",
    "plt.show()\n",
    "\n",
    "display(wiki_dataset['text_length'].describe(include='all'))\n",
    "print(f\"*\"*30)\n",
    "print(f\"max text_length : {wiki_dataset['text_length'].max()}\")\n",
    "wiki_dataset[wiki_dataset['text_length']==wiki_dataset['text_length'].max()]\n"
   ]
  },
  {
   "cell_type": "markdown",
   "id": "cb41db28-6ca3-4d5f-a368-a066d6d70717",
   "metadata": {},
   "source": [
    "문장의 길이가 너무 긴 outlier가 존재함을 보여준다.  \n",
    "또한 이상한 문자가 포함되어 있음도 보여준다."
   ]
  },
  {
   "cell_type": "markdown",
   "id": "6b989ea7-3011-4996-8db7-9435d2683125",
   "metadata": {},
   "source": [
    "### title"
   ]
  },
  {
   "cell_type": "code",
   "execution_count": 40,
   "id": "815bc1aa-4e6c-4e40-bb8b-88e8d30bfdd3",
   "metadata": {},
   "outputs": [
    {
     "data": {
      "image/png": "[encoded data removed]",
      "text/plain": [
       "<Figure size 1728x648 with 2 Axes>"
      ]
     },
     "metadata": {
      "needs_background": "light"
     },
     "output_type": "display_data"
    },
    {
     "data": {
      "text/plain": [
       "count    56737.000000\n",
       "mean         7.912702\n",
       "std          4.862442\n",
       "min          1.000000\n",
       "25%          5.000000\n",
       "50%          7.000000\n",
       "75%         10.000000\n",
       "max         96.000000\n",
       "Name: title_length, dtype: float64"
      ]
     },
     "metadata": {},
     "output_type": "display_data"
    },
    {
     "name": "stdout",
     "output_type": "stream",
     "text": [
      "******************************\n",
      "max title : 96\n"
     ]
    },
    {
     "data": {
      "text/html": [
       "<div>\n",
       "<style scoped>\n",
       "    .dataframe tbody tr th:only-of-type {\n",
       "        vertical-align: middle;\n",
       "    }\n",
       "\n",
       "    .dataframe tbody tr th {\n",
       "        vertical-align: top;\n",
       "    }\n",
       "\n",
       "    .dataframe thead th {\n",
       "        text-align: right;\n",
       "    }\n",
       "</style>\n",
       "<table border=\"1\" class=\"dataframe\">\n",
       "  <thead>\n",
       "    <tr style=\"text-align: right;\">\n",
       "      <th></th>\n",
       "      <th>text</th>\n",
       "      <th>title</th>\n",
       "      <th>text_length</th>\n",
       "      <th>text_length_group</th>\n",
       "      <th>title_length</th>\n",
       "      <th>title_length_group</th>\n",
       "    </tr>\n",
       "  </thead>\n",
       "  <tbody>\n",
       "    <tr>\n",
       "      <th>32654</th>\n",
       "      <td>2013년 9월 18일에 일본무도관에서 개최된 《AKB48 34th 싱글 선발 가위...</td>\n",
       "      <td>플라타너스 나무가 서 있는 길에서 「네 미소가 꿈에 나왔어」라고 말해버린다면 우리들...</td>\n",
       "      <td>356</td>\n",
       "      <td>1000</td>\n",
       "      <td>96</td>\n",
       "      <td>100</td>\n",
       "    </tr>\n",
       "    <tr>\n",
       "      <th>32655</th>\n",
       "      <td>괄호 내는 〈AKB48 34th 싱글 선발 가위바위보 대회〉의 순위.\\n\\n(센터:...</td>\n",
       "      <td>플라타너스 나무가 서 있는 길에서 「네 미소가 꿈에 나왔어」라고 말해버린다면 우리들...</td>\n",
       "      <td>377</td>\n",
       "      <td>1000</td>\n",
       "      <td>96</td>\n",
       "      <td>100</td>\n",
       "    </tr>\n",
       "    <tr>\n",
       "      <th>32656</th>\n",
       "      <td>(센터:오오시마 유코, 와타나베 마유)\\n\\n* 팀A: 이리야마 안나, 카와에이 리...</td>\n",
       "      <td>플라타너스 나무가 서 있는 길에서 「네 미소가 꿈에 나왔어」라고 말해버린다면 우리들...</td>\n",
       "      <td>395</td>\n",
       "      <td>1000</td>\n",
       "      <td>96</td>\n",
       "      <td>100</td>\n",
       "    </tr>\n",
       "    <tr>\n",
       "      <th>32657</th>\n",
       "      <td>〈플라타너스 나무가 서 있는 길에서 \"네 미소가 꿈에 나왔어\"라고 말해버린다면 우리...</td>\n",
       "      <td>플라타너스 나무가 서 있는 길에서 「네 미소가 꿈에 나왔어」라고 말해버린다면 우리들...</td>\n",
       "      <td>846</td>\n",
       "      <td>1000</td>\n",
       "      <td>96</td>\n",
       "      <td>100</td>\n",
       "    </tr>\n",
       "  </tbody>\n",
       "</table>\n",
       "</div>"
      ],
      "text/plain": [
       "                                                    text  \\\n",
       "32654  2013년 9월 18일에 일본무도관에서 개최된 《AKB48 34th 싱글 선발 가위...   \n",
       "32655  괄호 내는 〈AKB48 34th 싱글 선발 가위바위보 대회〉의 순위.\\n\\n(센터:...   \n",
       "32656  (센터:오오시마 유코, 와타나베 마유)\\n\\n* 팀A: 이리야마 안나, 카와에이 리...   \n",
       "32657  〈플라타너스 나무가 서 있는 길에서 \"네 미소가 꿈에 나왔어\"라고 말해버린다면 우리...   \n",
       "\n",
       "                                                   title  text_length  \\\n",
       "32654  플라타너스 나무가 서 있는 길에서 「네 미소가 꿈에 나왔어」라고 말해버린다면 우리들...          356   \n",
       "32655  플라타너스 나무가 서 있는 길에서 「네 미소가 꿈에 나왔어」라고 말해버린다면 우리들...          377   \n",
       "32656  플라타너스 나무가 서 있는 길에서 「네 미소가 꿈에 나왔어」라고 말해버린다면 우리들...          395   \n",
       "32657  플라타너스 나무가 서 있는 길에서 「네 미소가 꿈에 나왔어」라고 말해버린다면 우리들...          846   \n",
       "\n",
       "       text_length_group  title_length  title_length_group  \n",
       "32654               1000            96                 100  \n",
       "32655               1000            96                 100  \n",
       "32656               1000            96                 100  \n",
       "32657               1000            96                 100  "
      ]
     },
     "metadata": {},
     "output_type": "display_data"
    }
   ],
   "source": [
    "# title\n",
    "wiki_dataset['title_length'] = wiki_dataset['title'].map(str).apply(len)\n",
    "\n",
    "min = 10 # wiki_dataset['title_length'].min()\n",
    "\n",
    "min = round(min,(-1)*(len(str(min))-1))\n",
    "interval = pow(10,(len(str(min)) - 1))\n",
    "\n",
    "wiki_dataset['title_length_group'] = wiki_dataset['title'].map(lambda x : min + ((len(x)-min)//interval * interval) + interval )\n",
    "\n",
    "\n",
    "fig, axes = plt.subplots(1, 2, figsize=(24, 9))\n",
    "sns.boxplot(x = 'title_length', \n",
    "            data = wiki_dataset, \n",
    "            palette = \"Reds\", \n",
    "            ax = axes[0],\n",
    "            fliersize = 3\n",
    "           )\n",
    "\n",
    "axes[0].set_title('title_length')\n",
    "\n",
    "sns.countplot(x = 'title_length_group', \n",
    "              data = wiki_dataset,\n",
    "              order = sorted(wiki_dataset['title_length_group'].unique()),\n",
    "              # palette = \"Blues\",\n",
    "              ax = axes[1],\n",
    "           )\n",
    "\n",
    "axes[1].set_title('title_length_group')\n",
    "plt.show()\n",
    "\n",
    "display(wiki_dataset['title_length'].describe(include='all'))\n",
    "print(f\"*\"*30)\n",
    "\n",
    "print(f\"max title : {wiki_dataset['title_length'].max()}\")\n",
    "display(wiki_dataset[wiki_dataset['title_length']==wiki_dataset['title_length'].max()])"
   ]
  },
  {
   "cell_type": "code",
   "execution_count": null,
   "id": "f6697206-8e11-4165-9d13-2d9415afefd0",
   "metadata": {},
   "outputs": [],
   "source": []
  }
 ],
 "metadata": {
  "kernelspec": {
   "display_name": "Python 3 (ipykernel)",
   "language": "python",
   "name": "python3"
  },
  "language_info": {
   "codemirror_mode": {
    "name": "ipython",
    "version": 3
   },
   "file_extension": ".py",
   "mimetype": "text/x-python",
   "name": "python",
   "nbconvert_exporter": "python",
   "pygments_lexer": "ipython3",
   "version": "3.8.5"
  }
 },
 "nbformat": 4,
 "nbformat_minor": 5
}
