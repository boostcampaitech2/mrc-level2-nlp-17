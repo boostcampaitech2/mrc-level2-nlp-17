{
 "cells": [
  {
   "cell_type": "markdown",
   "id": "ba76499b-c0fd-4f7c-bb7c-ae5097b2f5cf",
   "metadata": {},
   "source": [
    "# MRC_valitadionset"
   ]
  },
  {
   "cell_type": "code",
   "execution_count": 1,
   "id": "03e492cc-5273-4085-8736-14a4e0beb4ef",
   "metadata": {},
   "outputs": [],
   "source": [
    "#import packages\n",
    "import pandas as pd\n",
    "import numpy as np\n",
    "import os\n",
    "import math\n",
    "\n",
    "# data visualizaion\n",
    "import seaborn as sns\n",
    "import matplotlib.pyplot as plt\n",
    "\n",
    "from typing import List, Set, Dict, Tuple\n",
    "\n",
    "# pip install missingno\n",
    "import missingno as msno\n",
    "import pprint\n",
    "\n",
    "\n",
    "# load for MRC datasets\n",
    "from datasets import load_from_disk\n",
    "\n",
    "# load for Retrieval dataset\n",
    "import json\n"
   ]
  },
  {
   "cell_type": "code",
   "execution_count": 2,
   "id": "7a5a67a2-631d-45f0-9f43-2ea9e23b4192",
   "metadata": {},
   "outputs": [
    {
     "name": "stdout",
     "output_type": "stream",
     "text": [
      "DatasetDict({\n",
      "    train: Dataset({\n",
      "        features: ['__index_level_0__', 'answers', 'context', 'document_id', 'id', 'question', 'title'],\n",
      "        num_rows: 3952\n",
      "    })\n",
      "    validation: Dataset({\n",
      "        features: ['__index_level_0__', 'answers', 'context', 'document_id', 'id', 'question', 'title'],\n",
      "        num_rows: 240\n",
      "    })\n",
      "})\n",
      "********************\n",
      "Total Train Dataset Count : 240 \n",
      "Train Dataset Ratio: 0.06 \n"
     ]
    }
   ],
   "source": [
    "DATA_PATH = \"../../data/\"\n",
    "\n",
    "mrc_train_dataset = load_from_disk(os.path.join(DATA_PATH,\"train_dataset\"))\n",
    "print(mrc_train_dataset)\n",
    "\n",
    "# train / validation 분리\n",
    "# 데이터 구조 중, 필요없는 컬럼인 '__index_level_0__' , 'document_id' 제거\n",
    "\n",
    "train_dataset = mrc_train_dataset['train'].remove_columns(['__index_level_0__','document_id'])\n",
    "validation_dataset = mrc_train_dataset['validation'].remove_columns(['__index_level_0__','document_id'])\n",
    "\n",
    "# Train 데이터 셋 중 train 비율\n",
    "print(f\"*\"*20)\n",
    "print(f\"Total Train Dataset Count : {validation_dataset.num_rows} \")\n",
    "print(f\"Train Dataset Ratio: { validation_dataset.num_rows / (train_dataset.num_rows + validation_dataset.num_rows):.2f} \")\n"
   ]
  },
  {
   "cell_type": "markdown",
   "id": "fe1cd6d9-8a66-49e0-9bdc-49faf5219d9d",
   "metadata": {},
   "source": [
    "## 데이터 개요"
   ]
  },
  {
   "cell_type": "code",
   "execution_count": 3,
   "id": "b75e283d-4ed1-4470-a316-d356c2ef9d31",
   "metadata": {},
   "outputs": [
    {
     "name": "stdout",
     "output_type": "stream",
     "text": [
      "{'title': '전효숙', 'context': '순천여자고등학교 졸업, 1973년 이화여자대학교를 졸업하고 1975년 제17회 사법시험에 합격하여 판사로 임용되었고 대법원 재판연구관, 수원지법 부장판사, 사법연수원 교수, 특허법원 부장판사 등을 거쳐 능력을 인정받았다. 2003년 최종영 대법원장의 지명으로 헌법재판소 재판관을 역임하였다.\\\\n\\\\n경제민주화위원회(위원장 장하성이 소액주주들을 대표해 한보철강 부실대출에 책임이 있는 이철수 전 제일은행장 등 임원 4명을 상대로 제기한 손해배상청구소송에서 서울지방법원 민사합의17부는 1998년 7월 24일에 \"한보철강에 부실 대출하여 은행에 막대한 손해를 끼친 점이 인정된다\"며 \"원고가 배상을 청구한 400억원 전액을 은행에 배상하라\"고 하면서 부실 경영인에 대한 최초의 배상 판결을 했다. \\\\n\\\\n2004년 10월 신행정수도의건설을위한특별조치법 위헌 확인 소송에서 9인의 재판관 중 유일하게 각하 견해를 내었다. 소수의견에서 전효숙 재판관은 다수견해의 문제점을 지적하면서 관습헌법 법리를 부정하였다. 전효숙 재판관은 서울대학교 근대법학교육 백주년 기념관에서 열린 강연에서, 국회가 고도의 정치적인 사안을 정치로 풀기보다는 헌법재판소에 무조건 맡겨서 해결하려는 자세는 헌법재판소에게 부담스럽다며 소회를 밝힌 바 있다.', 'question': '처음으로 부실 경영인에 대한 보상 선고를 받은 회사는?', 'id': 'mrc-0-003264', 'answers': {'answer_start': [284], 'text': ['한보철강']}}\n"
     ]
    },
    {
     "data": {
      "text/html": [
       "<div>\n",
       "<style scoped>\n",
       "    .dataframe tbody tr th:only-of-type {\n",
       "        vertical-align: middle;\n",
       "    }\n",
       "\n",
       "    .dataframe tbody tr th {\n",
       "        vertical-align: top;\n",
       "    }\n",
       "\n",
       "    .dataframe thead th {\n",
       "        text-align: right;\n",
       "    }\n",
       "</style>\n",
       "<table border=\"1\" class=\"dataframe\">\n",
       "  <thead>\n",
       "    <tr style=\"text-align: right;\">\n",
       "      <th></th>\n",
       "      <th>title</th>\n",
       "      <th>context</th>\n",
       "      <th>question</th>\n",
       "      <th>id</th>\n",
       "      <th>answers</th>\n",
       "    </tr>\n",
       "  </thead>\n",
       "  <tbody>\n",
       "    <tr>\n",
       "      <th>0</th>\n",
       "      <td>전효숙</td>\n",
       "      <td>순천여자고등학교 졸업, 1973년 이화여자대학교를 졸업하고 1975년 제17회 사법...</td>\n",
       "      <td>처음으로 부실 경영인에 대한 보상 선고를 받은 회사는?</td>\n",
       "      <td>mrc-0-003264</td>\n",
       "      <td>{'answer_start': [284], 'text': ['한보철강']}</td>\n",
       "    </tr>\n",
       "    <tr>\n",
       "      <th>1</th>\n",
       "      <td>스토우빌선</td>\n",
       "      <td>요크 카운티 동쪽에 처음으로 여객 열차 운행이 시작한 시점은 1868년 토론토 &amp; ...</td>\n",
       "      <td>스카버러 남쪽과 코보콘그 마을의 철도 노선이 처음 연장된 연도는?</td>\n",
       "      <td>mrc-0-004762</td>\n",
       "      <td>{'answer_start': [146], 'text': ['1871년']}</td>\n",
       "    </tr>\n",
       "    <tr>\n",
       "      <th>2</th>\n",
       "      <td>촐라</td>\n",
       "      <td>촐라 정부\\n 촐라의 정부 체제는 전제군주제였으며,2001 촐라의 군주는 절대적인 ...</td>\n",
       "      <td>촌락에서 운영 위원 후보자 이름을 쓰기위해 사용된 것은?</td>\n",
       "      <td>mrc-1-001810</td>\n",
       "      <td>{'answer_start': [517], 'text': ['나뭇잎']}</td>\n",
       "    </tr>\n",
       "    <tr>\n",
       "      <th>3</th>\n",
       "      <td>백조 기사</td>\n",
       "      <td>프랑스의 십자군 무훈시는 1099년 예루살렘 왕국의 통치자가 된 고드프루아 드 부용...</td>\n",
       "      <td>로타이르가 백조를 구하기 위해 사용한 것은?</td>\n",
       "      <td>mrc-1-000219</td>\n",
       "      <td>{'answer_start': [1109], 'text': ['금대야']}</td>\n",
       "    </tr>\n",
       "    <tr>\n",
       "      <th>4</th>\n",
       "      <td>탈관료제화</td>\n",
       "      <td>탈관료제화는 현대사회에서 관료제 성격이 약화되는 현상이다. 현대사회에서 관료제는 약...</td>\n",
       "      <td>의견을 자유롭게 나누는 것은 조직 내 어떤 관계에서 가능한가?</td>\n",
       "      <td>mrc-1-000285</td>\n",
       "      <td>{'answer_start': [386], 'text': ['수평적 관계']}</td>\n",
       "    </tr>\n",
       "  </tbody>\n",
       "</table>\n",
       "</div>"
      ],
      "text/plain": [
       "   title                                            context  \\\n",
       "0    전효숙  순천여자고등학교 졸업, 1973년 이화여자대학교를 졸업하고 1975년 제17회 사법...   \n",
       "1  스토우빌선  요크 카운티 동쪽에 처음으로 여객 열차 운행이 시작한 시점은 1868년 토론토 & ...   \n",
       "2     촐라  촐라 정부\\n 촐라의 정부 체제는 전제군주제였으며,2001 촐라의 군주는 절대적인 ...   \n",
       "3  백조 기사  프랑스의 십자군 무훈시는 1099년 예루살렘 왕국의 통치자가 된 고드프루아 드 부용...   \n",
       "4  탈관료제화  탈관료제화는 현대사회에서 관료제 성격이 약화되는 현상이다. 현대사회에서 관료제는 약...   \n",
       "\n",
       "                               question            id  \\\n",
       "0        처음으로 부실 경영인에 대한 보상 선고를 받은 회사는?  mrc-0-003264   \n",
       "1  스카버러 남쪽과 코보콘그 마을의 철도 노선이 처음 연장된 연도는?  mrc-0-004762   \n",
       "2       촌락에서 운영 위원 후보자 이름을 쓰기위해 사용된 것은?  mrc-1-001810   \n",
       "3              로타이르가 백조를 구하기 위해 사용한 것은?  mrc-1-000219   \n",
       "4    의견을 자유롭게 나누는 것은 조직 내 어떤 관계에서 가능한가?  mrc-1-000285   \n",
       "\n",
       "                                       answers  \n",
       "0    {'answer_start': [284], 'text': ['한보철강']}  \n",
       "1   {'answer_start': [146], 'text': ['1871년']}  \n",
       "2     {'answer_start': [517], 'text': ['나뭇잎']}  \n",
       "3    {'answer_start': [1109], 'text': ['금대야']}  \n",
       "4  {'answer_start': [386], 'text': ['수평적 관계']}  "
      ]
     },
     "execution_count": 3,
     "metadata": {},
     "output_type": "execute_result"
    }
   ],
   "source": [
    "print(validation_dataset[0])\n",
    "# type(validation_dataset)\n",
    "\n",
    "# arrow_dataset to pandas\n",
    "validation_dataset = pd.DataFrame(validation_dataset)\n",
    "validation_dataset.head()"
   ]
  },
  {
   "cell_type": "code",
   "execution_count": 5,
   "id": "7dbaa8c7-b2f2-4488-971e-2de06e4b7a48",
   "metadata": {},
   "outputs": [
    {
     "data": {
      "text/html": [
       "<div>\n",
       "<style scoped>\n",
       "    .dataframe tbody tr th:only-of-type {\n",
       "        vertical-align: middle;\n",
       "    }\n",
       "\n",
       "    .dataframe tbody tr th {\n",
       "        vertical-align: top;\n",
       "    }\n",
       "\n",
       "    .dataframe thead th {\n",
       "        text-align: right;\n",
       "    }\n",
       "</style>\n",
       "<table border=\"1\" class=\"dataframe\">\n",
       "  <thead>\n",
       "    <tr style=\"text-align: right;\">\n",
       "      <th></th>\n",
       "      <th>title</th>\n",
       "      <th>context</th>\n",
       "      <th>question</th>\n",
       "      <th>id</th>\n",
       "      <th>answer_start</th>\n",
       "      <th>text</th>\n",
       "    </tr>\n",
       "  </thead>\n",
       "  <tbody>\n",
       "    <tr>\n",
       "      <th>0</th>\n",
       "      <td>전효숙</td>\n",
       "      <td>순천여자고등학교 졸업, 1973년 이화여자대학교를 졸업하고 1975년 제17회 사법...</td>\n",
       "      <td>처음으로 부실 경영인에 대한 보상 선고를 받은 회사는?</td>\n",
       "      <td>mrc-0-003264</td>\n",
       "      <td>284</td>\n",
       "      <td>한보철강</td>\n",
       "    </tr>\n",
       "    <tr>\n",
       "      <th>1</th>\n",
       "      <td>스토우빌선</td>\n",
       "      <td>요크 카운티 동쪽에 처음으로 여객 열차 운행이 시작한 시점은 1868년 토론토 &amp; ...</td>\n",
       "      <td>스카버러 남쪽과 코보콘그 마을의 철도 노선이 처음 연장된 연도는?</td>\n",
       "      <td>mrc-0-004762</td>\n",
       "      <td>146</td>\n",
       "      <td>1871년</td>\n",
       "    </tr>\n",
       "    <tr>\n",
       "      <th>2</th>\n",
       "      <td>촐라</td>\n",
       "      <td>촐라 정부\\n 촐라의 정부 체제는 전제군주제였으며,2001 촐라의 군주는 절대적인 ...</td>\n",
       "      <td>촌락에서 운영 위원 후보자 이름을 쓰기위해 사용된 것은?</td>\n",
       "      <td>mrc-1-001810</td>\n",
       "      <td>517</td>\n",
       "      <td>나뭇잎</td>\n",
       "    </tr>\n",
       "    <tr>\n",
       "      <th>3</th>\n",
       "      <td>백조 기사</td>\n",
       "      <td>프랑스의 십자군 무훈시는 1099년 예루살렘 왕국의 통치자가 된 고드프루아 드 부용...</td>\n",
       "      <td>로타이르가 백조를 구하기 위해 사용한 것은?</td>\n",
       "      <td>mrc-1-000219</td>\n",
       "      <td>1109</td>\n",
       "      <td>금대야</td>\n",
       "    </tr>\n",
       "    <tr>\n",
       "      <th>4</th>\n",
       "      <td>탈관료제화</td>\n",
       "      <td>탈관료제화는 현대사회에서 관료제 성격이 약화되는 현상이다. 현대사회에서 관료제는 약...</td>\n",
       "      <td>의견을 자유롭게 나누는 것은 조직 내 어떤 관계에서 가능한가?</td>\n",
       "      <td>mrc-1-000285</td>\n",
       "      <td>386</td>\n",
       "      <td>수평적 관계</td>\n",
       "    </tr>\n",
       "  </tbody>\n",
       "</table>\n",
       "</div>"
      ],
      "text/plain": [
       "   title                                            context  \\\n",
       "0    전효숙  순천여자고등학교 졸업, 1973년 이화여자대학교를 졸업하고 1975년 제17회 사법...   \n",
       "1  스토우빌선  요크 카운티 동쪽에 처음으로 여객 열차 운행이 시작한 시점은 1868년 토론토 & ...   \n",
       "2     촐라  촐라 정부\\n 촐라의 정부 체제는 전제군주제였으며,2001 촐라의 군주는 절대적인 ...   \n",
       "3  백조 기사  프랑스의 십자군 무훈시는 1099년 예루살렘 왕국의 통치자가 된 고드프루아 드 부용...   \n",
       "4  탈관료제화  탈관료제화는 현대사회에서 관료제 성격이 약화되는 현상이다. 현대사회에서 관료제는 약...   \n",
       "\n",
       "                               question            id  answer_start    text  \n",
       "0        처음으로 부실 경영인에 대한 보상 선고를 받은 회사는?  mrc-0-003264           284    한보철강  \n",
       "1  스카버러 남쪽과 코보콘그 마을의 철도 노선이 처음 연장된 연도는?  mrc-0-004762           146   1871년  \n",
       "2       촌락에서 운영 위원 후보자 이름을 쓰기위해 사용된 것은?  mrc-1-001810           517     나뭇잎  \n",
       "3              로타이르가 백조를 구하기 위해 사용한 것은?  mrc-1-000219          1109     금대야  \n",
       "4    의견을 자유롭게 나누는 것은 조직 내 어떤 관계에서 가능한가?  mrc-1-000285           386  수평적 관계  "
      ]
     },
     "execution_count": 5,
     "metadata": {},
     "output_type": "execute_result"
    }
   ],
   "source": [
    "# answers 컬럼 분리\n",
    "validation_dataset = pd.concat([validation_dataset.drop(['answers'], axis=1), validation_dataset['answers'].apply(pd.Series)], axis=1)\n",
    "\n",
    "validation_dataset['answer_start'] = validation_dataset['answer_start'].apply(lambda x: int(''.join(map(str, x))))\n",
    "validation_dataset['text'] = validation_dataset['text'].apply(lambda x: ','.join(map(str, x)))\n",
    "\n",
    "validation_dataset.head()"
   ]
  },
  {
   "cell_type": "markdown",
   "id": "18cc009c-65d5-4d1f-8a75-7c79adb9224f",
   "metadata": {},
   "source": [
    "## 결측치 확인"
   ]
  },
  {
   "cell_type": "code",
   "execution_count": 7,
   "id": "a214368e-6b2b-4e94-8a64-f77e0563b6dd",
   "metadata": {},
   "outputs": [
    {
     "data": {
      "text/plain": [
       "<AxesSubplot:>"
      ]
     },
     "execution_count": 7,
     "metadata": {},
     "output_type": "execute_result"
    },
    {
     "data": {
      "image/png": "[encoded data removed]",
      "text/plain": [
       "<Figure size 1800x720 with 2 Axes>"
      ]
     },
     "metadata": {
      "needs_background": "light"
     },
     "output_type": "display_data"
    }
   ],
   "source": [
    "# 결측치 확인\n",
    "msno.matrix(validation_dataset)"
   ]
  },
  {
   "cell_type": "markdown",
   "id": "d4e95d83-78bb-4a74-bbac-a8771405ef12",
   "metadata": {},
   "source": [
    "데이터에서의 결측치는 없다."
   ]
  },
  {
   "cell_type": "markdown",
   "id": "87ab327c-c288-4154-9bad-14c5590dc4e4",
   "metadata": {},
   "source": [
    "## 데이터 중복 확인"
   ]
  },
  {
   "cell_type": "code",
   "execution_count": 10,
   "id": "56332a7a-78a1-436b-b38d-11c00e3ddb91",
   "metadata": {},
   "outputs": [
    {
     "data": {
      "text/html": [
       "<div>\n",
       "<style scoped>\n",
       "    .dataframe tbody tr th:only-of-type {\n",
       "        vertical-align: middle;\n",
       "    }\n",
       "\n",
       "    .dataframe tbody tr th {\n",
       "        vertical-align: top;\n",
       "    }\n",
       "\n",
       "    .dataframe thead th {\n",
       "        text-align: right;\n",
       "    }\n",
       "</style>\n",
       "<table border=\"1\" class=\"dataframe\">\n",
       "  <thead>\n",
       "    <tr style=\"text-align: right;\">\n",
       "      <th></th>\n",
       "      <th>title</th>\n",
       "      <th>context</th>\n",
       "      <th>question</th>\n",
       "      <th>id</th>\n",
       "      <th>answer_start</th>\n",
       "      <th>text</th>\n",
       "    </tr>\n",
       "  </thead>\n",
       "  <tbody>\n",
       "    <tr>\n",
       "      <th>count</th>\n",
       "      <td>240</td>\n",
       "      <td>240</td>\n",
       "      <td>240</td>\n",
       "      <td>240</td>\n",
       "      <td>240.000000</td>\n",
       "      <td>240</td>\n",
       "    </tr>\n",
       "    <tr>\n",
       "      <th>unique</th>\n",
       "      <td>228</td>\n",
       "      <td>235</td>\n",
       "      <td>240</td>\n",
       "      <td>240</td>\n",
       "      <td>NaN</td>\n",
       "      <td>240</td>\n",
       "    </tr>\n",
       "    <tr>\n",
       "      <th>top</th>\n",
       "      <td>티칼</td>\n",
       "      <td>태양권계면(Heliopause)은 천문학에서 태양의 태양풍을 성간매질이 멈추게 하는...</td>\n",
       "      <td>레닌이 출간한 책 중 농민의 자발적 참여에 대한 내용이 포함되어있는 것은?</td>\n",
       "      <td>mrc-0-003677</td>\n",
       "      <td>NaN</td>\n",
       "      <td>아케디아</td>\n",
       "    </tr>\n",
       "    <tr>\n",
       "      <th>freq</th>\n",
       "      <td>2</td>\n",
       "      <td>2</td>\n",
       "      <td>1</td>\n",
       "      <td>1</td>\n",
       "      <td>NaN</td>\n",
       "      <td>1</td>\n",
       "    </tr>\n",
       "    <tr>\n",
       "      <th>mean</th>\n",
       "      <td>NaN</td>\n",
       "      <td>NaN</td>\n",
       "      <td>NaN</td>\n",
       "      <td>NaN</td>\n",
       "      <td>391.516667</td>\n",
       "      <td>NaN</td>\n",
       "    </tr>\n",
       "    <tr>\n",
       "      <th>std</th>\n",
       "      <td>NaN</td>\n",
       "      <td>NaN</td>\n",
       "      <td>NaN</td>\n",
       "      <td>NaN</td>\n",
       "      <td>311.943965</td>\n",
       "      <td>NaN</td>\n",
       "    </tr>\n",
       "    <tr>\n",
       "      <th>min</th>\n",
       "      <td>NaN</td>\n",
       "      <td>NaN</td>\n",
       "      <td>NaN</td>\n",
       "      <td>NaN</td>\n",
       "      <td>0.000000</td>\n",
       "      <td>NaN</td>\n",
       "    </tr>\n",
       "    <tr>\n",
       "      <th>25%</th>\n",
       "      <td>NaN</td>\n",
       "      <td>NaN</td>\n",
       "      <td>NaN</td>\n",
       "      <td>NaN</td>\n",
       "      <td>154.000000</td>\n",
       "      <td>NaN</td>\n",
       "    </tr>\n",
       "    <tr>\n",
       "      <th>50%</th>\n",
       "      <td>NaN</td>\n",
       "      <td>NaN</td>\n",
       "      <td>NaN</td>\n",
       "      <td>NaN</td>\n",
       "      <td>317.000000</td>\n",
       "      <td>NaN</td>\n",
       "    </tr>\n",
       "    <tr>\n",
       "      <th>75%</th>\n",
       "      <td>NaN</td>\n",
       "      <td>NaN</td>\n",
       "      <td>NaN</td>\n",
       "      <td>NaN</td>\n",
       "      <td>536.000000</td>\n",
       "      <td>NaN</td>\n",
       "    </tr>\n",
       "    <tr>\n",
       "      <th>max</th>\n",
       "      <td>NaN</td>\n",
       "      <td>NaN</td>\n",
       "      <td>NaN</td>\n",
       "      <td>NaN</td>\n",
       "      <td>1429.000000</td>\n",
       "      <td>NaN</td>\n",
       "    </tr>\n",
       "  </tbody>\n",
       "</table>\n",
       "</div>"
      ],
      "text/plain": [
       "       title                                            context  \\\n",
       "count    240                                                240   \n",
       "unique   228                                                235   \n",
       "top       티칼  태양권계면(Heliopause)은 천문학에서 태양의 태양풍을 성간매질이 멈추게 하는...   \n",
       "freq       2                                                  2   \n",
       "mean     NaN                                                NaN   \n",
       "std      NaN                                                NaN   \n",
       "min      NaN                                                NaN   \n",
       "25%      NaN                                                NaN   \n",
       "50%      NaN                                                NaN   \n",
       "75%      NaN                                                NaN   \n",
       "max      NaN                                                NaN   \n",
       "\n",
       "                                         question            id  answer_start  \\\n",
       "count                                         240           240    240.000000   \n",
       "unique                                        240           240           NaN   \n",
       "top     레닌이 출간한 책 중 농민의 자발적 참여에 대한 내용이 포함되어있는 것은?  mrc-0-003677           NaN   \n",
       "freq                                            1             1           NaN   \n",
       "mean                                          NaN           NaN    391.516667   \n",
       "std                                           NaN           NaN    311.943965   \n",
       "min                                           NaN           NaN      0.000000   \n",
       "25%                                           NaN           NaN    154.000000   \n",
       "50%                                           NaN           NaN    317.000000   \n",
       "75%                                           NaN           NaN    536.000000   \n",
       "max                                           NaN           NaN   1429.000000   \n",
       "\n",
       "        text  \n",
       "count    240  \n",
       "unique   240  \n",
       "top     아케디아  \n",
       "freq       1  \n",
       "mean     NaN  \n",
       "std      NaN  \n",
       "min      NaN  \n",
       "25%      NaN  \n",
       "50%      NaN  \n",
       "75%      NaN  \n",
       "max      NaN  "
      ]
     },
     "execution_count": 10,
     "metadata": {},
     "output_type": "execute_result"
    }
   ],
   "source": [
    "validation_dataset.describe(include='all')"
   ]
  },
  {
   "cell_type": "markdown",
   "id": "37652fce-5cf8-422c-9453-69e425242af8",
   "metadata": {},
   "source": [
    "- 중복이 있는 컬럼\n",
    "    - title\n",
    "    - context\n",
    "- 중복없는 컬럼\n",
    "    - id\n",
    "    - question\n",
    "    - text\n",
    "\n",
    "train과 달리, text에서의 중복이 존재하지 않는다.\n",
    "\n",
    "title, context 부분에의 중복 형태를 알아본다.\n"
   ]
  },
  {
   "cell_type": "code",
   "execution_count": 13,
   "id": "35fb9f8b-cee8-4ecd-8179-cd812280325a",
   "metadata": {},
   "outputs": [],
   "source": [
    "def display_groupby_duplicated(dataset : pd.DataFrame , n : int , column_list : List[str]) -> pd.DataFrame:\n",
    "    '''\n",
    "    Usage:\n",
    "        dataset: groupby 대상\n",
    "        n : groupby에서 n개 이상 중복된 개수를 출력\n",
    "        column_list : column 이름을 담을 list\n",
    "    '''\n",
    "    duplicate_results = pd.concat(g for _, g in dataset.groupby(column_list) if len(g) >= n).sort_values(column_list)\n",
    "    column_name = \",\".join(column_list)\n",
    "    #print(type(column_name))\n",
    "    print(f\"{column_name} group by count : {len(duplicate_results.index)}\")\n",
    "    \n",
    "    return duplicate_results\n",
    "    "
   ]
  },
  {
   "cell_type": "markdown",
   "id": "df181009-e088-42d0-aced-7b2fec402787",
   "metadata": {},
   "source": [
    "### title"
   ]
  },
  {
   "cell_type": "code",
   "execution_count": 14,
   "id": "714cbeaa-23d7-476b-a9e0-5592d369f086",
   "metadata": {},
   "outputs": [
    {
     "name": "stdout",
     "output_type": "stream",
     "text": [
      "title group by count : 24\n"
     ]
    },
    {
     "data": {
      "text/html": [
       "<div>\n",
       "<style scoped>\n",
       "    .dataframe tbody tr th:only-of-type {\n",
       "        vertical-align: middle;\n",
       "    }\n",
       "\n",
       "    .dataframe tbody tr th {\n",
       "        vertical-align: top;\n",
       "    }\n",
       "\n",
       "    .dataframe thead th {\n",
       "        text-align: right;\n",
       "    }\n",
       "</style>\n",
       "<table border=\"1\" class=\"dataframe\">\n",
       "  <thead>\n",
       "    <tr style=\"text-align: right;\">\n",
       "      <th></th>\n",
       "      <th>title</th>\n",
       "      <th>context</th>\n",
       "      <th>question</th>\n",
       "      <th>id</th>\n",
       "      <th>answer_start</th>\n",
       "      <th>text</th>\n",
       "    </tr>\n",
       "  </thead>\n",
       "  <tbody>\n",
       "    <tr>\n",
       "      <th>61</th>\n",
       "      <td>교황 비오 11세</td>\n",
       "      <td>오랫동안 학문에 몸 담아왔던 그는 교회 내에서 급속도로 출세가도를 달리기 시작했다....</td>\n",
       "      <td>아킬레 라티가 추기경으로 추대된 해는?</td>\n",
       "      <td>mrc-1-000459</td>\n",
       "      <td>47</td>\n",
       "      <td>1932년</td>\n",
       "    </tr>\n",
       "    <tr>\n",
       "      <th>66</th>\n",
       "      <td>교황 비오 11세</td>\n",
       "      <td>비오 11세는 이리 오랫동안 질병을 앓았으며, 1938년 11월 25일 몇 시간에 ...</td>\n",
       "      <td>교황 비오 11세가 사망한 연도는?</td>\n",
       "      <td>mrc-0-002767</td>\n",
       "      <td>1114</td>\n",
       "      <td>1939년</td>\n",
       "    </tr>\n",
       "    <tr>\n",
       "      <th>56</th>\n",
       "      <td>김준연</td>\n",
       "      <td>1947년 12월 김성수가 한민당 당수가 되면서 그는 한민당 부당수로 선임되었다. ...</td>\n",
       "      <td>김준연은 김구가 누구와 몰래 교류하고 있다고 주장했나요?</td>\n",
       "      <td>mrc-0-000939</td>\n",
       "      <td>255</td>\n",
       "      <td>공산당</td>\n",
       "    </tr>\n",
       "    <tr>\n",
       "      <th>132</th>\n",
       "      <td>김준연</td>\n",
       "      <td>6세 때부터 월출산을 보며 서당에 나가 한문을 배웠다 마을 서당에서 공부하다가 형편...</td>\n",
       "      <td>김준연은 김옥성과 몇 년간 함께 살았나요?</td>\n",
       "      <td>mrc-0-004015</td>\n",
       "      <td>248</td>\n",
       "      <td>60년간</td>\n",
       "    </tr>\n",
       "    <tr>\n",
       "      <th>118</th>\n",
       "      <td>나치 독일</td>\n",
       "      <td>1941년 6월 22일에는 독일이 독소불가침 조약을 깨고 380만 명의 추축국 군대...</td>\n",
       "      <td>러시아에 있는 다량의 천연자원을 약탈하려했던 계획은?</td>\n",
       "      <td>mrc-0-004202</td>\n",
       "      <td>67</td>\n",
       "      <td>바르바로사 작전</td>\n",
       "    </tr>\n",
       "  </tbody>\n",
       "</table>\n",
       "</div>"
      ],
      "text/plain": [
       "         title                                            context  \\\n",
       "61   교황 비오 11세  오랫동안 학문에 몸 담아왔던 그는 교회 내에서 급속도로 출세가도를 달리기 시작했다....   \n",
       "66   교황 비오 11세  비오 11세는 이리 오랫동안 질병을 앓았으며, 1938년 11월 25일 몇 시간에 ...   \n",
       "56         김준연  1947년 12월 김성수가 한민당 당수가 되면서 그는 한민당 부당수로 선임되었다. ...   \n",
       "132        김준연  6세 때부터 월출산을 보며 서당에 나가 한문을 배웠다 마을 서당에서 공부하다가 형편...   \n",
       "118      나치 독일  1941년 6월 22일에는 독일이 독소불가침 조약을 깨고 380만 명의 추축국 군대...   \n",
       "\n",
       "                            question            id  answer_start      text  \n",
       "61             아킬레 라티가 추기경으로 추대된 해는?  mrc-1-000459            47     1932년  \n",
       "66               교황 비오 11세가 사망한 연도는?  mrc-0-002767          1114     1939년  \n",
       "56   김준연은 김구가 누구와 몰래 교류하고 있다고 주장했나요?  mrc-0-000939           255       공산당  \n",
       "132          김준연은 김옥성과 몇 년간 함께 살았나요?  mrc-0-004015           248      60년간  \n",
       "118    러시아에 있는 다량의 천연자원을 약탈하려했던 계획은?  mrc-0-004202            67  바르바로사 작전  "
      ]
     },
     "metadata": {},
     "output_type": "display_data"
    }
   ],
   "source": [
    "# title \n",
    "duplicate_results = display_groupby_duplicated(validation_dataset, 2, [\"title\"])\n",
    "display(duplicate_results.head())"
   ]
  },
  {
   "cell_type": "markdown",
   "id": "15d6acfd-0159-43f8-b6a4-53250ee18cf9",
   "metadata": {},
   "source": [
    "### context"
   ]
  },
  {
   "cell_type": "code",
   "execution_count": 16,
   "id": "d6851f75-5917-4148-9797-5f2a97b9d888",
   "metadata": {},
   "outputs": [
    {
     "name": "stdout",
     "output_type": "stream",
     "text": [
      "context group by count : 10\n"
     ]
    },
    {
     "data": {
      "text/html": [
       "<div>\n",
       "<style scoped>\n",
       "    .dataframe tbody tr th:only-of-type {\n",
       "        vertical-align: middle;\n",
       "    }\n",
       "\n",
       "    .dataframe tbody tr th {\n",
       "        vertical-align: top;\n",
       "    }\n",
       "\n",
       "    .dataframe thead th {\n",
       "        text-align: right;\n",
       "    }\n",
       "</style>\n",
       "<table border=\"1\" class=\"dataframe\">\n",
       "  <thead>\n",
       "    <tr style=\"text-align: right;\">\n",
       "      <th></th>\n",
       "      <th>title</th>\n",
       "      <th>context</th>\n",
       "      <th>question</th>\n",
       "      <th>id</th>\n",
       "      <th>answer_start</th>\n",
       "      <th>text</th>\n",
       "    </tr>\n",
       "  </thead>\n",
       "  <tbody>\n",
       "    <tr>\n",
       "      <th>74</th>\n",
       "      <td>버트런드 러셀</td>\n",
       "      <td>러셀은 1890년 케임브리지 대학교의 트리니티 칼리지에 장학생으로 들어갔다. 그는 ...</td>\n",
       "      <td>러셀의 여자 친구의 종교는?</td>\n",
       "      <td>mrc-0-003677</td>\n",
       "      <td>215</td>\n",
       "      <td>퀘이커 교</td>\n",
       "    </tr>\n",
       "    <tr>\n",
       "      <th>231</th>\n",
       "      <td>버트런드 러셀</td>\n",
       "      <td>러셀은 1890년 케임브리지 대학교의 트리니티 칼리지에 장학생으로 들어갔다. 그는 ...</td>\n",
       "      <td>러셀은 누구의 가족과 함께 1889년 파리 박람회에 갔는가?</td>\n",
       "      <td>mrc-0-001162</td>\n",
       "      <td>215</td>\n",
       "      <td>퀘이커 교도였던 앨리스 페어살 스미스</td>\n",
       "    </tr>\n",
       "    <tr>\n",
       "      <th>6</th>\n",
       "      <td>자수장</td>\n",
       "      <td>수를 놓을 때에 사용하는 기법을 문양의 형태에 따라 나누어 보면 선을 잇는 수, 면...</td>\n",
       "      <td>징금수는 서양 자수의 어떤 기법과 같은 기술을 사용하는가?</td>\n",
       "      <td>mrc-0-002076</td>\n",
       "      <td>192</td>\n",
       "      <td>코칭 스티치</td>\n",
       "    </tr>\n",
       "    <tr>\n",
       "      <th>81</th>\n",
       "      <td>자수장</td>\n",
       "      <td>수를 놓을 때에 사용하는 기법을 문양의 형태에 따라 나누어 보면 선을 잇는 수, 면...</td>\n",
       "      <td>수를 놓을 때에 사용하는 기법 중 아주 작은 점으로 표현하는 방식은?</td>\n",
       "      <td>mrc-1-001132</td>\n",
       "      <td>101</td>\n",
       "      <td>점수</td>\n",
       "    </tr>\n",
       "    <tr>\n",
       "      <th>129</th>\n",
       "      <td>송나라</td>\n",
       "      <td>요나라와의 전연의 맹세에 지불한 것으로 알려진 재물은 비단 20만필, 은 10만량이...</td>\n",
       "      <td>송나라가 돈을 지불하여 피하고자 했던 것은?</td>\n",
       "      <td>mrc-0-004495</td>\n",
       "      <td>251</td>\n",
       "      <td>전쟁</td>\n",
       "    </tr>\n",
       "  </tbody>\n",
       "</table>\n",
       "</div>"
      ],
      "text/plain": [
       "       title                                            context  \\\n",
       "74   버트런드 러셀  러셀은 1890년 케임브리지 대학교의 트리니티 칼리지에 장학생으로 들어갔다. 그는 ...   \n",
       "231  버트런드 러셀  러셀은 1890년 케임브리지 대학교의 트리니티 칼리지에 장학생으로 들어갔다. 그는 ...   \n",
       "6        자수장  수를 놓을 때에 사용하는 기법을 문양의 형태에 따라 나누어 보면 선을 잇는 수, 면...   \n",
       "81       자수장  수를 놓을 때에 사용하는 기법을 문양의 형태에 따라 나누어 보면 선을 잇는 수, 면...   \n",
       "129      송나라  요나라와의 전연의 맹세에 지불한 것으로 알려진 재물은 비단 20만필, 은 10만량이...   \n",
       "\n",
       "                                   question            id  answer_start  \\\n",
       "74                          러셀의 여자 친구의 종교는?  mrc-0-003677           215   \n",
       "231       러셀은 누구의 가족과 함께 1889년 파리 박람회에 갔는가?  mrc-0-001162           215   \n",
       "6          징금수는 서양 자수의 어떤 기법과 같은 기술을 사용하는가?  mrc-0-002076           192   \n",
       "81   수를 놓을 때에 사용하는 기법 중 아주 작은 점으로 표현하는 방식은?  mrc-1-001132           101   \n",
       "129                송나라가 돈을 지불하여 피하고자 했던 것은?  mrc-0-004495           251   \n",
       "\n",
       "                     text  \n",
       "74                  퀘이커 교  \n",
       "231  퀘이커 교도였던 앨리스 페어살 스미스  \n",
       "6                  코칭 스티치  \n",
       "81                     점수  \n",
       "129                    전쟁  "
      ]
     },
     "metadata": {},
     "output_type": "display_data"
    }
   ],
   "source": [
    "# context\n",
    "duplicate_results = display_groupby_duplicated(validation_dataset, 2, [\"context\"])\n",
    "display(duplicate_results.head())"
   ]
  },
  {
   "cell_type": "markdown",
   "id": "3aa5b637-48bf-4057-b075-a56785401c69",
   "metadata": {},
   "source": [
    "## validation_dataset : 컬럼 별 길이"
   ]
  },
  {
   "cell_type": "markdown",
   "id": "1c55db48-010a-4a67-9c4f-1e5571573164",
   "metadata": {},
   "source": [
    "### context"
   ]
  },
  {
   "cell_type": "code",
   "execution_count": 18,
   "id": "a1e8e88d-349a-4863-a6dc-cf83345cd8f8",
   "metadata": {},
   "outputs": [
    {
     "data": {
      "image/png": "[encoded data removed]",
      "text/plain": [
       "<Figure size 1728x648 with 2 Axes>"
      ]
     },
     "metadata": {
      "needs_background": "light"
     },
     "output_type": "display_data"
    },
    {
     "data": {
      "text/plain": [
       "count     240.000000\n",
       "mean      916.725000\n",
       "std       360.032122\n",
       "min       517.000000\n",
       "25%       616.750000\n",
       "50%       820.500000\n",
       "75%      1107.250000\n",
       "max      2064.000000\n",
       "Name: context_length, dtype: float64"
      ]
     },
     "metadata": {},
     "output_type": "display_data"
    },
    {
     "name": "stdout",
     "output_type": "stream",
     "text": [
      "******************************\n",
      "max context : 2064\n"
     ]
    },
    {
     "data": {
      "text/html": [
       "<div>\n",
       "<style scoped>\n",
       "    .dataframe tbody tr th:only-of-type {\n",
       "        vertical-align: middle;\n",
       "    }\n",
       "\n",
       "    .dataframe tbody tr th {\n",
       "        vertical-align: top;\n",
       "    }\n",
       "\n",
       "    .dataframe thead th {\n",
       "        text-align: right;\n",
       "    }\n",
       "</style>\n",
       "<table border=\"1\" class=\"dataframe\">\n",
       "  <thead>\n",
       "    <tr style=\"text-align: right;\">\n",
       "      <th></th>\n",
       "      <th>title</th>\n",
       "      <th>context</th>\n",
       "      <th>question</th>\n",
       "      <th>id</th>\n",
       "      <th>answer_start</th>\n",
       "      <th>text</th>\n",
       "      <th>context_length</th>\n",
       "      <th>context_length_group</th>\n",
       "    </tr>\n",
       "  </thead>\n",
       "  <tbody>\n",
       "    <tr>\n",
       "      <th>203</th>\n",
       "      <td>나가시마 시게오</td>\n",
       "      <td>1974년 10월 12일, 주니치의 리그 우승이 확정되면서 요미우리의 리그 10연패...</td>\n",
       "      <td>나가시마의 은퇴경기는 무엇 때문에 미뤄졌나?</td>\n",
       "      <td>mrc-1-001622</td>\n",
       "      <td>406</td>\n",
       "      <td>우천</td>\n",
       "      <td>2064</td>\n",
       "      <td>2100</td>\n",
       "    </tr>\n",
       "  </tbody>\n",
       "</table>\n",
       "</div>"
      ],
      "text/plain": [
       "        title                                            context  \\\n",
       "203  나가시마 시게오  1974년 10월 12일, 주니치의 리그 우승이 확정되면서 요미우리의 리그 10연패...   \n",
       "\n",
       "                     question            id  answer_start text  \\\n",
       "203  나가시마의 은퇴경기는 무엇 때문에 미뤄졌나?  mrc-1-001622           406   우천   \n",
       "\n",
       "     context_length  context_length_group  \n",
       "203            2064                  2100  "
      ]
     },
     "metadata": {},
     "output_type": "display_data"
    }
   ],
   "source": [
    "# context\n",
    "validation_dataset['context_length'] = validation_dataset['context'].map(str).apply(len)\n",
    "\n",
    "min = validation_dataset['context_length'].min()\n",
    "\n",
    "min = round(min,(-1)*(len(str(min))-1))\n",
    "interval = pow(10,(len(str(min)) - 1))\n",
    "\n",
    "validation_dataset['context_length_group'] = validation_dataset['context'].map(lambda x : min + ((len(x)-min)//interval * interval) + interval )\n",
    "\n",
    "\n",
    "fig, axes = plt.subplots(1, 2, figsize=(24, 9))\n",
    "sns.boxplot(x = 'context_length', \n",
    "            data = validation_dataset, \n",
    "            palette = \"Reds\", \n",
    "            ax = axes[0],\n",
    "            fliersize = 3\n",
    "           )\n",
    "\n",
    "axes[0].set_title('context_length')\n",
    "\n",
    "sns.countplot(x = 'context_length_group', \n",
    "              data = validation_dataset,\n",
    "              order = sorted(validation_dataset['context_length_group'].unique()),\n",
    "              # palette = \"Blues\",\n",
    "              ax = axes[1],\n",
    "           )\n",
    "\n",
    "axes[1].set_title('context_length_group')\n",
    "plt.show()\n",
    "\n",
    "display(validation_dataset['context_length'].describe(include='all'))\n",
    "\n",
    "print(f\"*\"*30)\n",
    "print(f\"max context : {validation_dataset['context_length'].max()}\")\n",
    "\n",
    "display(validation_dataset[validation_dataset['context_length']==validation_dataset['context_length'].max()])"
   ]
  },
  {
   "cell_type": "markdown",
   "id": "fbbcd366-e801-40aa-8e65-11a103f3e640",
   "metadata": {},
   "source": [
    "train과 분포는 비슷함을 보인다."
   ]
  },
  {
   "cell_type": "markdown",
   "id": "a9d646ec-9988-4077-8303-05f4bbb4c264",
   "metadata": {},
   "source": [
    "### title"
   ]
  },
  {
   "cell_type": "code",
   "execution_count": 19,
   "id": "9b1c0c7e-6565-48b4-887c-981168171156",
   "metadata": {},
   "outputs": [
    {
     "data": {
      "image/png": "[encoded data removed]",
      "text/plain": [
       "<Figure size 1728x648 with 2 Axes>"
      ]
     },
     "metadata": {
      "needs_background": "light"
     },
     "output_type": "display_data"
    },
    {
     "data": {
      "text/plain": [
       "count    240.000000\n",
       "mean       7.266667\n",
       "std        4.389476\n",
       "min        2.000000\n",
       "25%        4.000000\n",
       "50%        6.000000\n",
       "75%        9.000000\n",
       "max       34.000000\n",
       "Name: title_length, dtype: float64"
      ]
     },
     "metadata": {},
     "output_type": "display_data"
    },
    {
     "name": "stdout",
     "output_type": "stream",
     "text": [
      "******************************\n",
      "max title : 2064\n"
     ]
    },
    {
     "data": {
      "text/html": [
       "<div>\n",
       "<style scoped>\n",
       "    .dataframe tbody tr th:only-of-type {\n",
       "        vertical-align: middle;\n",
       "    }\n",
       "\n",
       "    .dataframe tbody tr th {\n",
       "        vertical-align: top;\n",
       "    }\n",
       "\n",
       "    .dataframe thead th {\n",
       "        text-align: right;\n",
       "    }\n",
       "</style>\n",
       "<table border=\"1\" class=\"dataframe\">\n",
       "  <thead>\n",
       "    <tr style=\"text-align: right;\">\n",
       "      <th></th>\n",
       "      <th>title</th>\n",
       "      <th>context</th>\n",
       "      <th>question</th>\n",
       "      <th>id</th>\n",
       "      <th>answer_start</th>\n",
       "      <th>text</th>\n",
       "      <th>context_length</th>\n",
       "      <th>context_length_group</th>\n",
       "      <th>title_length</th>\n",
       "      <th>title_length_group</th>\n",
       "    </tr>\n",
       "  </thead>\n",
       "  <tbody>\n",
       "    <tr>\n",
       "      <th>91</th>\n",
       "      <td>동방성련선 ~ Undefined Fantastic Object</td>\n",
       "      <td>마계의 일부 '법계' 에 봉인되어 있던, 원래 인간이었던 마법사이다 . 『성련선』의...</td>\n",
       "      <td>뱌쿠롄과 레이무 일행은 어떤 철학 때문에 싸우게 되었나?</td>\n",
       "      <td>mrc-0-002189</td>\n",
       "      <td>459</td>\n",
       "      <td>\"인간과 요괴의 완전한 평등\"</td>\n",
       "      <td>719</td>\n",
       "      <td>800</td>\n",
       "      <td>34</td>\n",
       "      <td>35</td>\n",
       "    </tr>\n",
       "  </tbody>\n",
       "</table>\n",
       "</div>"
      ],
      "text/plain": [
       "                                 title  \\\n",
       "91  동방성련선 ~ Undefined Fantastic Object   \n",
       "\n",
       "                                              context  \\\n",
       "91  마계의 일부 '법계' 에 봉인되어 있던, 원래 인간이었던 마법사이다 . 『성련선』의...   \n",
       "\n",
       "                           question            id  answer_start  \\\n",
       "91  뱌쿠롄과 레이무 일행은 어떤 철학 때문에 싸우게 되었나?  mrc-0-002189           459   \n",
       "\n",
       "                text  context_length  context_length_group  title_length  \\\n",
       "91  \"인간과 요괴의 완전한 평등\"             719                   800            34   \n",
       "\n",
       "    title_length_group  \n",
       "91                  35  "
      ]
     },
     "metadata": {},
     "output_type": "display_data"
    }
   ],
   "source": [
    "# title\n",
    "validation_dataset['title_length'] = validation_dataset['title'].map(str).apply(len)\n",
    "\n",
    "min = 5 # validation_dataset['title_length'].min()\n",
    "\n",
    "min = round(min,(-1)*(len(str(min))-1))\n",
    "interval = pow(10,(len(str(min)) - 1))\n",
    "\n",
    "validation_dataset['title_length_group'] = validation_dataset['title'].map(lambda x : min + ((len(x)-min)//interval * interval) + interval )\n",
    "\n",
    "\n",
    "fig, axes = plt.subplots(1, 2, figsize=(24, 9))\n",
    "sns.boxplot(x = 'title_length', \n",
    "            data = validation_dataset, \n",
    "            palette = \"Reds\", \n",
    "            ax = axes[0],\n",
    "            fliersize = 3\n",
    "           )\n",
    "\n",
    "axes[0].set_title('title_length')\n",
    "\n",
    "sns.countplot(x = 'title_length_group', \n",
    "              data = validation_dataset,\n",
    "              order = sorted(validation_dataset['title_length_group'].unique()),\n",
    "              # palette = \"Blues\",\n",
    "              ax = axes[1],\n",
    "           )\n",
    "\n",
    "axes[1].set_title('title_length_group')\n",
    "plt.show()\n",
    "\n",
    "display(validation_dataset['title_length'].describe(include='all'))\n",
    "print(f\"*\"*30)\n",
    "\n",
    "print(f\"max title : {validation_dataset['context_length'].max()}\")\n",
    "display(validation_dataset[validation_dataset['title_length']==validation_dataset['title_length'].max()])"
   ]
  },
  {
   "cell_type": "markdown",
   "id": "5a71014b-2686-40ee-8df0-ee4ebb5bbd4d",
   "metadata": {},
   "source": [
    "train과 분포도가 유사하다."
   ]
  },
  {
   "cell_type": "markdown",
   "id": "029db1ec-5a95-4e1f-85e8-d48d2bc0130b",
   "metadata": {},
   "source": [
    "### question"
   ]
  },
  {
   "cell_type": "code",
   "execution_count": 20,
   "id": "95a3fec1-0b32-4c7e-90cc-b3561795d340",
   "metadata": {},
   "outputs": [
    {
     "data": {
      "image/png": "[encoded data removed]",
      "text/plain": [
       "<Figure size 1728x648 with 2 Axes>"
      ]
     },
     "metadata": {
      "needs_background": "light"
     },
     "output_type": "display_data"
    },
    {
     "data": {
      "text/plain": [
       "count    240.000000\n",
       "mean      29.195833\n",
       "std        8.728301\n",
       "min        9.000000\n",
       "25%       23.000000\n",
       "50%       29.000000\n",
       "75%       35.000000\n",
       "max       59.000000\n",
       "Name: question_length, dtype: float64"
      ]
     },
     "metadata": {},
     "output_type": "display_data"
    },
    {
     "name": "stdout",
     "output_type": "stream",
     "text": [
      "******************************\n",
      "max question : 59\n"
     ]
    },
    {
     "data": {
      "text/html": [
       "<div>\n",
       "<style scoped>\n",
       "    .dataframe tbody tr th:only-of-type {\n",
       "        vertical-align: middle;\n",
       "    }\n",
       "\n",
       "    .dataframe tbody tr th {\n",
       "        vertical-align: top;\n",
       "    }\n",
       "\n",
       "    .dataframe thead th {\n",
       "        text-align: right;\n",
       "    }\n",
       "</style>\n",
       "<table border=\"1\" class=\"dataframe\">\n",
       "  <thead>\n",
       "    <tr style=\"text-align: right;\">\n",
       "      <th></th>\n",
       "      <th>title</th>\n",
       "      <th>context</th>\n",
       "      <th>question</th>\n",
       "      <th>id</th>\n",
       "      <th>answer_start</th>\n",
       "      <th>text</th>\n",
       "      <th>context_length</th>\n",
       "      <th>context_length_group</th>\n",
       "      <th>title_length</th>\n",
       "      <th>title_length_group</th>\n",
       "      <th>question_length</th>\n",
       "      <th>question_length_group</th>\n",
       "    </tr>\n",
       "  </thead>\n",
       "  <tbody>\n",
       "    <tr>\n",
       "      <th>178</th>\n",
       "      <td>카리용 전투</td>\n",
       "      <td>7월 6일 아침, 영국 육군은 조지 호수의 북쪽 해안에 상륙을 시작했다. 에버크롬비...</td>\n",
       "      <td>베르니츠 강과 라슈트 강이 만나는 곳 부근에서 코네티컷 연대와 만나 전투를 벌였던 ...</td>\n",
       "      <td>mrc-0-003149</td>\n",
       "      <td>335</td>\n",
       "      <td>트레뻬제 부대</td>\n",
       "      <td>852</td>\n",
       "      <td>900</td>\n",
       "      <td>6</td>\n",
       "      <td>7</td>\n",
       "      <td>59</td>\n",
       "      <td>60</td>\n",
       "    </tr>\n",
       "  </tbody>\n",
       "</table>\n",
       "</div>"
      ],
      "text/plain": [
       "      title                                            context  \\\n",
       "178  카리용 전투  7월 6일 아침, 영국 육군은 조지 호수의 북쪽 해안에 상륙을 시작했다. 에버크롬비...   \n",
       "\n",
       "                                              question            id  \\\n",
       "178  베르니츠 강과 라슈트 강이 만나는 곳 부근에서 코네티컷 연대와 만나 전투를 벌였던 ...  mrc-0-003149   \n",
       "\n",
       "     answer_start     text  context_length  context_length_group  \\\n",
       "178           335  트레뻬제 부대             852                   900   \n",
       "\n",
       "     title_length  title_length_group  question_length  question_length_group  \n",
       "178             6                   7               59                     60  "
      ]
     },
     "execution_count": 20,
     "metadata": {},
     "output_type": "execute_result"
    }
   ],
   "source": [
    "# question\n",
    "validation_dataset['question_length'] = validation_dataset['question'].map(str).apply(len)\n",
    "\n",
    "min = 8 #validation_dataset['question_length'].min()\n",
    "\n",
    "min = round(min,(-1)*(len(str(min))-1))\n",
    "interval = pow(10,(len(str(min)) - 1))\n",
    "\n",
    "validation_dataset['question_length_group'] = validation_dataset['question'].map(lambda x : min + ((len(x)-min)//interval * interval) + interval )\n",
    "\n",
    "\n",
    "fig, axes = plt.subplots(1, 2, figsize=(24, 9))\n",
    "sns.boxplot(x = 'question_length', \n",
    "            data = validation_dataset, \n",
    "            palette = \"Reds\", \n",
    "            ax = axes[0],\n",
    "            fliersize = 3\n",
    "           )\n",
    "\n",
    "axes[0].set_title('question_length')\n",
    "\n",
    "sns.countplot(x = 'question_length_group', \n",
    "              data = validation_dataset,\n",
    "              order = sorted(validation_dataset['question_length_group'].unique()),\n",
    "              # palette = \"Blues\",\n",
    "              ax = axes[1],\n",
    "           )\n",
    "\n",
    "axes[1].set_title('question_length_group')\n",
    "plt.show()\n",
    "\n",
    "display(validation_dataset['question_length'].describe(include='all'))\n",
    "print(f\"*\"*30)\n",
    "print(f\"max question : {validation_dataset['question_length'].max()}\")\n",
    "validation_dataset[validation_dataset['question_length']==validation_dataset['question_length'].max()]"
   ]
  },
  {
   "cell_type": "markdown",
   "id": "f190da13-74f9-4f97-99a8-9bf80bf6af6c",
   "metadata": {},
   "source": [
    "train 과 유사하다"
   ]
  },
  {
   "cell_type": "markdown",
   "id": "c1891f28-104b-40b2-9c54-71848b34def9",
   "metadata": {},
   "source": [
    "### text"
   ]
  },
  {
   "cell_type": "code",
   "execution_count": 23,
   "id": "39a99512-8b04-48bf-be65-c2ee15780a47",
   "metadata": {},
   "outputs": [
    {
     "data": {
      "image/png": "[encoded data removed]",
      "text/plain": [
       "<Figure size 1728x648 with 2 Axes>"
      ]
     },
     "metadata": {
      "needs_background": "light"
     },
     "output_type": "display_data"
    },
    {
     "data": {
      "text/plain": [
       "count    240.000000\n",
       "mean       6.912500\n",
       "std        6.858755\n",
       "min        1.000000\n",
       "25%        3.000000\n",
       "50%        5.000000\n",
       "75%        8.000000\n",
       "max       64.000000\n",
       "Name: text_length, dtype: float64"
      ]
     },
     "metadata": {},
     "output_type": "display_data"
    },
    {
     "name": "stdout",
     "output_type": "stream",
     "text": [
      "******************************\n",
      "max text_length : 64\n"
     ]
    },
    {
     "data": {
      "text/html": [
       "<div>\n",
       "<style scoped>\n",
       "    .dataframe tbody tr th:only-of-type {\n",
       "        vertical-align: middle;\n",
       "    }\n",
       "\n",
       "    .dataframe tbody tr th {\n",
       "        vertical-align: top;\n",
       "    }\n",
       "\n",
       "    .dataframe thead th {\n",
       "        text-align: right;\n",
       "    }\n",
       "</style>\n",
       "<table border=\"1\" class=\"dataframe\">\n",
       "  <thead>\n",
       "    <tr style=\"text-align: right;\">\n",
       "      <th></th>\n",
       "      <th>title</th>\n",
       "      <th>context</th>\n",
       "      <th>question</th>\n",
       "      <th>id</th>\n",
       "      <th>answer_start</th>\n",
       "      <th>text</th>\n",
       "      <th>context_length</th>\n",
       "      <th>context_length_group</th>\n",
       "      <th>title_length</th>\n",
       "      <th>title_length_group</th>\n",
       "      <th>question_length</th>\n",
       "      <th>question_length_group</th>\n",
       "      <th>text_length</th>\n",
       "      <th>text_length_group</th>\n",
       "    </tr>\n",
       "  </thead>\n",
       "  <tbody>\n",
       "    <tr>\n",
       "      <th>109</th>\n",
       "      <td>셔틀콕</td>\n",
       "      <td>셔틀콕은 그 재질에 따라 깃털 셔틀콕과 인조 셔틀콕으로 나뉜다. 깃털로 만들어진 셔...</td>\n",
       "      <td>어느정도 규모 이상의 대회에서 깃털 셔틀콕만을 사용하는 이유는?</td>\n",
       "      <td>mrc-0-004197</td>\n",
       "      <td>637</td>\n",
       "      <td>깃털 셔틀콕의 타구감을 선호하고, 또한 플라스틱보다 깃털 셔틀콕이 정교한 컨트롤을 ...</td>\n",
       "      <td>900</td>\n",
       "      <td>1000</td>\n",
       "      <td>3</td>\n",
       "      <td>4</td>\n",
       "      <td>35</td>\n",
       "      <td>36</td>\n",
       "      <td>64</td>\n",
       "      <td>65</td>\n",
       "    </tr>\n",
       "  </tbody>\n",
       "</table>\n",
       "</div>"
      ],
      "text/plain": [
       "    title                                            context  \\\n",
       "109   셔틀콕  셔틀콕은 그 재질에 따라 깃털 셔틀콕과 인조 셔틀콕으로 나뉜다. 깃털로 만들어진 셔...   \n",
       "\n",
       "                                question            id  answer_start  \\\n",
       "109  어느정도 규모 이상의 대회에서 깃털 셔틀콕만을 사용하는 이유는?  mrc-0-004197           637   \n",
       "\n",
       "                                                  text  context_length  \\\n",
       "109  깃털 셔틀콕의 타구감을 선호하고, 또한 플라스틱보다 깃털 셔틀콕이 정교한 컨트롤을 ...             900   \n",
       "\n",
       "     context_length_group  title_length  title_length_group  question_length  \\\n",
       "109                  1000             3                   4               35   \n",
       "\n",
       "     question_length_group  text_length  text_length_group  \n",
       "109                     36           64                 65  "
      ]
     },
     "execution_count": 23,
     "metadata": {},
     "output_type": "execute_result"
    }
   ],
   "source": [
    "# text\n",
    "validation_dataset['text_length'] = validation_dataset['text'].map(str).apply(len)\n",
    "\n",
    "min = 5 # validation_dataset['text_length'].min()\n",
    "\n",
    "min = round(min,(-1)*(len(str(min))-1))\n",
    "interval = pow(10,(len(str(min)) - 1))\n",
    "\n",
    "validation_dataset['text_length_group'] = validation_dataset['text'].map(lambda x : min + ((len(x)-min)//interval * interval) + interval )\n",
    "\n",
    "\n",
    "fig, axes = plt.subplots(1, 2, figsize=(24, 9))\n",
    "sns.boxplot(x = 'text_length', \n",
    "            data = validation_dataset, \n",
    "            palette = \"Reds\", \n",
    "            ax = axes[0],\n",
    "            fliersize = 3\n",
    "           )\n",
    "\n",
    "axes[0].set_title('text_length')\n",
    "\n",
    "sns.countplot(x = 'text_length_group', \n",
    "              data = validation_dataset,\n",
    "              order = sorted(validation_dataset['text_length_group'].unique()),\n",
    "              # palette = \"Blues\",\n",
    "              ax = axes[1],\n",
    "           )\n",
    "\n",
    "axes[1].set_title('text_length_group')\n",
    "plt.show()\n",
    "\n",
    "display(validation_dataset['text_length'].describe(include='all'))\n",
    "print(f\"*\"*30)\n",
    "print(f\"max text_length : {validation_dataset['text_length'].max()}\")\n",
    "validation_dataset[validation_dataset['text_length']==validation_dataset['text_length'].max()]\n"
   ]
  },
  {
   "cell_type": "markdown",
   "id": "8421f515-23ad-44d6-b81e-7b45c09b3584",
   "metadata": {},
   "source": [
    "### answer_start"
   ]
  },
  {
   "cell_type": "code",
   "execution_count": 24,
   "id": "fdee1412-9b05-409d-93bd-25f887491bce",
   "metadata": {},
   "outputs": [
    {
     "data": {
      "image/png": "[encoded data removed]",
      "text/plain": [
       "<Figure size 1728x648 with 2 Axes>"
      ]
     },
     "metadata": {
      "needs_background": "light"
     },
     "output_type": "display_data"
    },
    {
     "data": {
      "text/plain": [
       "count     240.000000\n",
       "mean      391.516667\n",
       "std       311.943965\n",
       "min         0.000000\n",
       "25%       154.000000\n",
       "50%       317.000000\n",
       "75%       536.000000\n",
       "max      1429.000000\n",
       "Name: answer_start, dtype: float64"
      ]
     },
     "metadata": {},
     "output_type": "display_data"
    },
    {
     "name": "stdout",
     "output_type": "stream",
     "text": [
      "******************************\n",
      "max answer_start_length : 1429\n",
      "{14: '남은 사유지를 가진 지주들은 정부측의 한 층 강한 압력을 받았으나 반대동맹에 남겠다는 결의가 강했으며 한 층 더 강한 반대운동이 '\n",
      "     '시작되었다. \\\\n\\\\n반대파는 햐쿠리 비행장 반대 운동을 참고하여 토지를 잘게 세분화하여 공항 예정지 매수 교섭을 어렵게 하기 '\n",
      "     '위해 혁신정당의 주도 하에 토지 1평씩을 소유자나 지원자가 서로 매매해 나눠 가져 일평지주 운동을 벌였으며, 또한 입목에 관한 '\n",
      "     '법률에 따라 1명씩 입목을 서로 매매하고 심은 후 표찰을 내거는 입목 트러스트 운동도 진행하였다. 일평지주운동은 1966년 8월 '\n",
      "     '29일 시작하여 토지 내 33곳 2.1 ha의 영역의 공유지를 사용하였으며 이 토지의 소유자는 1,300명이 넘었다. 이 토지의 '\n",
      "     '등기에는 일본 사회당의 주요 의원 이름도 올라가 있었다. \\\\n\\\\n초기부터 공항반대운동의 조직 지도에는 혁신정당이 관여하였으나, '\n",
      "     '1967년 8월 16일 반대동맹이 \"모든 민주세력과의 공동투쟁\"으로 적대적인 신좌익당파(반요요기파)와 공투를 표명하며 일본공산당과 '\n",
      "     '반대동맹 간 관계가 틀어지기 시작하였다\\\\n\\\\n8월 21일 도모노 지바현지사는 토지수용법에 의거하여 공항공단이 각 토지의 '\n",
      "     '출입조사를 시행하겠다고 공표하였다. 이 기간 동안 반대동맹은 청원, 시위, 서명운동, 해직청구 등 다양한 항의 운동을 하였으나 '\n",
      "     '뚜렷한 성과를 거두지 못했다. 당시 반대파 주민 중에서는 자유민주당 지지자들도 있어 이들은 자민당 의원에게 진정도 넣었으나 진정 '\n",
      "     '후에도 이 의원들이 공항 찬성 입장을 밝히면서 주민 사이의 갈등이 확산되었다\\\\n\\\\n10월 10일 이른 아침, 외곽 측량용 '\n",
      "     '쇠말뚝을 박기 위해 공항공단 직원들이 경시청, 지바현 경찰, 가나가와현 경찰의 기동대 약 1,500명의 보호를 받은 채 공항 건설 '\n",
      "     '예정지로 향했다. 이에 대항해 반대동맹은 공항 건설지로 향하는 도로를 농성하여 점거하는 등 저지를 시도하였으나 일본 도로교통법 '\n",
      "     '위반 등의 경고를 받은 끝에 기동대가 물리적으로 끌어내는 사건이 일어난다(측량말뚝 저지투쟁) 이때 동맹원의 선두에 서 있던 '\n",
      "     '일본공산당과 일본민주청년동맹은 일찌감치 농성을 풀고 대열에서 벗어나 노동요였던 힘내자를 부르며 기동대와 반대파 주민 사이 충돌을 '\n",
      "     '방관하였다.group=주해|공산당원들은 반대파 주민들에게 \"경찰의 도발에 넘어가지 마라\"라고 호소하였으나 땅을 지킨다는 목표로 '\n",
      "     '농성하였던 주민들은 이를 듣지 않았으며 충돌이 발생하였다. 당시 동맹원들은 \"정부의 횡포\"와 \"공산당의 배신\"을 당했다고 '\n",
      "     '분노하였다.\\\\n\\\\n또한 11월 14일 공산당은 운수대신 오하시 다케오와 공항공단 총재가 반대동맹 대표인 도무라 가즈사쿠 등과 '\n",
      "     '좌담회를 가진 것에 \"동맹의 대방침에 위배될 뿐 아니라 동맹을 일부에서 뒤집으러는 비민주적인 처사\"라고 규탄하고 여기에 반대동맹 '\n",
      "     '간부의 배신이라는 소문을 내며 주도권을 회복하러 움직이자 반대동맹과 공산당 간의 대립관계는 결정적으로 '\n",
      "     '어긋났다.group=주해|공산당과 결별을 선언한 1967년 11월 15일 반대동맹의 성명서에서는 공산당은 \"동맹 간부가 운수대신과 '\n",
      "     '회담을 제의했다\"며 간부들이 기회를 엿본다는 듯이 선전하였으며 \"동맹 간부가 조건찬성파가 되었다\", \"도미사토촌 니주호에 동맹 '\n",
      "     '간부 2명이 4정8반의 토지를 구입했다\"라는 등 반간부 공작을 하였다고 비난하였다.'}\n"
     ]
    },
    {
     "data": {
      "text/html": [
       "<div>\n",
       "<style scoped>\n",
       "    .dataframe tbody tr th:only-of-type {\n",
       "        vertical-align: middle;\n",
       "    }\n",
       "\n",
       "    .dataframe tbody tr th {\n",
       "        vertical-align: top;\n",
       "    }\n",
       "\n",
       "    .dataframe thead th {\n",
       "        text-align: right;\n",
       "    }\n",
       "</style>\n",
       "<table border=\"1\" class=\"dataframe\">\n",
       "  <thead>\n",
       "    <tr style=\"text-align: right;\">\n",
       "      <th></th>\n",
       "      <th>title</th>\n",
       "      <th>context</th>\n",
       "      <th>question</th>\n",
       "      <th>id</th>\n",
       "      <th>answer_start</th>\n",
       "      <th>text</th>\n",
       "      <th>context_length</th>\n",
       "      <th>context_length_group</th>\n",
       "      <th>title_length</th>\n",
       "      <th>title_length_group</th>\n",
       "      <th>question_length</th>\n",
       "      <th>question_length_group</th>\n",
       "      <th>text_length</th>\n",
       "      <th>text_length_group</th>\n",
       "      <th>answer_start_group</th>\n",
       "    </tr>\n",
       "  </thead>\n",
       "  <tbody>\n",
       "    <tr>\n",
       "      <th>14</th>\n",
       "      <td>산리즈카 투쟁</td>\n",
       "      <td>남은 사유지를 가진 지주들은 정부측의 한 층 강한 압력을 받았으나 반대동맹에 남겠다...</td>\n",
       "      <td>반대동맹이 공산당과 갈라서겠다고 얘기한 날은 언제인가?</td>\n",
       "      <td>mrc-0-003032</td>\n",
       "      <td>1429</td>\n",
       "      <td>1967년 11월 15일</td>\n",
       "      <td>1592</td>\n",
       "      <td>1600</td>\n",
       "      <td>7</td>\n",
       "      <td>8</td>\n",
       "      <td>30</td>\n",
       "      <td>31</td>\n",
       "      <td>13</td>\n",
       "      <td>14</td>\n",
       "      <td>1500</td>\n",
       "    </tr>\n",
       "  </tbody>\n",
       "</table>\n",
       "</div>"
      ],
      "text/plain": [
       "      title                                            context  \\\n",
       "14  산리즈카 투쟁  남은 사유지를 가진 지주들은 정부측의 한 층 강한 압력을 받았으나 반대동맹에 남겠다...   \n",
       "\n",
       "                          question            id  answer_start           text  \\\n",
       "14  반대동맹이 공산당과 갈라서겠다고 얘기한 날은 언제인가?  mrc-0-003032          1429  1967년 11월 15일   \n",
       "\n",
       "    context_length  context_length_group  title_length  title_length_group  \\\n",
       "14            1592                  1600             7                   8   \n",
       "\n",
       "    question_length  question_length_group  text_length  text_length_group  \\\n",
       "14               30                     31           13                 14   \n",
       "\n",
       "    answer_start_group  \n",
       "14                1500  "
      ]
     },
     "metadata": {},
     "output_type": "display_data"
    }
   ],
   "source": [
    "# answer_start\n",
    "validation_dataset['answer_start'] = validation_dataset['answer_start'].map(int)\n",
    "\n",
    "min = 100 # validation_dataset['answer_start'].mean()\n",
    "\n",
    "min = round(min,(-1)*(len(str(min))-1))\n",
    "\n",
    "interval = pow(10,(len(str(min)) - 1))\n",
    "\n",
    "validation_dataset['answer_start_group'] = validation_dataset['answer_start'].map(lambda x : min + (x//interval * 100) )\n",
    "\n",
    "validation_dataset['answer_start'] = validation_dataset['answer_start'].map(int)\n",
    "\n",
    "fig, axes = plt.subplots(1, 2, figsize=(24, 9))\n",
    "sns.boxplot(x = 'answer_start', \n",
    "            data = validation_dataset, \n",
    "            palette = \"Reds\", \n",
    "            ax = axes[0],\n",
    "            fliersize = 3\n",
    "           )\n",
    "\n",
    "axes[0].set_title('answer_start')\n",
    "\n",
    "sns.countplot(x = 'answer_start_group', \n",
    "              data = validation_dataset,\n",
    "              order = sorted(validation_dataset['answer_start_group'].unique()),\n",
    "              # palette = \"Blues\",\n",
    "              ax = axes[1],\n",
    "           )\n",
    "\n",
    "axes[1].set_title('answer_start_group')\n",
    "plt.show()\n",
    "display(validation_dataset['answer_start'].describe(include='all'))\n",
    "print(f\"*\"*30)\n",
    "print(f\"max answer_start_length : {validation_dataset['answer_start'].max()}\")\n",
    "pprint.pprint(validation_dataset[validation_dataset['answer_start']==validation_dataset['answer_start'].max()].to_dict()['context'])\n",
    "display(validation_dataset[validation_dataset['answer_start']==validation_dataset['answer_start'].max()])\n"
   ]
  },
  {
   "cell_type": "markdown",
   "id": "1265d045-0a84-4465-b5c5-9e8d26814703",
   "metadata": {},
   "source": [
    "### conclusion\n",
    "\n",
    "train 데이터와 validation의 컬럼 별 길이에서 거의 유사한 분포를 보이고 있다.  \n",
    "다만, context의 길이는 validation에서 더 긴 것을 확인할 수 있다."
   ]
  },
  {
   "cell_type": "code",
   "execution_count": null,
   "id": "0f8542e5-e109-4b86-859b-d83489ea57a2",
   "metadata": {},
   "outputs": [],
   "source": []
  }
 ],
 "metadata": {
  "kernelspec": {
   "display_name": "Python 3 (ipykernel)",
   "language": "python",
   "name": "python3"
  },
  "language_info": {
   "codemirror_mode": {
    "name": "ipython",
    "version": 3
   },
   "file_extension": ".py",
   "mimetype": "text/x-python",
   "name": "python",
   "nbconvert_exporter": "python",
   "pygments_lexer": "ipython3",
   "version": "3.8.5"
  }
 },
 "nbformat": 4,
 "nbformat_minor": 5
}
