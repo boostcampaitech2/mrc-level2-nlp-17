{
 "cells": [
  {
   "cell_type": "code",
   "execution_count": 1,
   "id": "d7a042de-7119-424b-9e3e-aef40f2cebfc",
   "metadata": {},
   "outputs": [],
   "source": [
    "from elasticsearch import Elasticsearch\n",
    "import json\n",
    "\n",
    "import os\n",
    "import re\n",
    "import numpy as np\n",
    "\n",
    "from tqdm import tqdm\n",
    "from pprint import pprint\n",
    "import time\n",
    "from contextlib import contextmanager\n",
    "@contextmanager\n",
    "def timer(name):\n",
    "    t0 = time.time()\n",
    "    yield\n",
    "    print(f\"[{name}] done in {time.time() - t0:.3f} s\")"
   ]
  },
  {
   "cell_type": "markdown",
   "id": "48288982-3506-48e0-9886-5ae9e7ef54f0",
   "metadata": {},
   "source": [
    "# 1. INDEX 설정 및 생성"
   ]
  },
  {
   "cell_type": "code",
   "execution_count": 2,
   "id": "cd2b6b97-29e3-41c1-afc8-16514668f2a5",
   "metadata": {},
   "outputs": [],
   "source": [
    "# doc data read\n",
    "with open(\"../../data/wikipedia_documents.json\") as f:\n",
    "    doc_data = json.load(f)\n",
    "\n",
    "contexts = list(\n",
    "            dict.fromkeys([v[\"text\"] for v in doc_data.values()])\n",
    "        )"
   ]
  },
  {
   "cell_type": "code",
   "execution_count": 3,
   "id": "c6337770-8f83-457b-82f8-2c4c354dac69",
   "metadata": {},
   "outputs": [
    {
     "name": "stdout",
     "output_type": "stream",
     "text": [
      "dict_items([('text', '이 문서는 나라 목록이며, 전 세계 206개 나라의 각 현황과 주권 승인 정보를 개요 형태로 나열하고 있다.\\n\\n이 목록은 명료화를 위해 두 부분으로 나뉘어 있다.\\n\\n# 첫 번째 부분은 바티칸 시국과 팔레스타인을 포함하여 유엔 등 국제 기구에 가입되어 국제적인 승인을 널리 받았다고 여기는 195개 나라를 나열하고 있다.\\n# 두 번째 부분은 일부 지역의 주권을 사실상 (데 팍토) 행사하고 있지만, 아직 국제적인 승인을 널리 받지 않았다고 여기는 11개 나라를 나열하고 있다.\\n\\n두 목록은 모두 가나다 순이다.\\n\\n일부 국가의 경우 국가로서의 자격에 논쟁의 여부가 있으며, 이 때문에 이러한 목록을 엮는 것은 매우 어렵고 논란이 생길 수 있는 과정이다. 이 목록을 구성하고 있는 국가를 선정하는 기준에 대한 정보는 \"포함 기준\" 단락을 통해 설명하였다. 나라에 대한 일반적인 정보는 \"국가\" 문서에서 설명하고 있다.'), ('corpus_source', '위키피디아'), ('url', 'TODO'), ('domain', None), ('title', '나라 목록'), ('author', None), ('html', None), ('document_id', 0)])\n"
     ]
    }
   ],
   "source": [
    "print(doc_data['0'].items())"
   ]
  },
  {
   "cell_type": "code",
   "execution_count": 4,
   "id": "44c35535-48a8-4f71-ad53-271bd2ab4d41",
   "metadata": {},
   "outputs": [],
   "source": [
    "INDEX_NAME = \"wiki_index\"\n",
    "\n",
    "\n",
    "INDEX_SETTINGS = {\n",
    "  \"settings\" : {\n",
    "    \"index\":{\n",
    "      \"analysis\":{\n",
    "        \"analyzer\":{\n",
    "          \"korean\":{\n",
    "            \"type\":\"custom\",\n",
    "            \"tokenizer\":\"nori_tokenizer\",\n",
    "            \"filter\": [ \"shingle\" ],\n",
    "\n",
    "          }\n",
    "        }\n",
    "      }\n",
    "    }\n",
    "  },\n",
    "  \"mappings\": {\n",
    "\n",
    "      \"properties\" : {\n",
    "        \"content\" : {\n",
    "          \"type\" : \"text\",\n",
    "          \"analyzer\": \"korean\",\n",
    "          \"search_analyzer\": \"korean\"\n",
    "        },\n",
    "        #\"title\" : {\n",
    "        #  \"type\" : \"text\",\n",
    "        #  \"analyzer\": \"korean\",\n",
    "        #  \"search_analyzer\": \"korean\"\n",
    "        #}\n",
    "      }\n",
    "\n",
    "  }\n",
    "}"
   ]
  },
  {
   "cell_type": "code",
   "execution_count": 5,
   "id": "4afe017d-f54f-4c05-927f-d6e64bc2c002",
   "metadata": {},
   "outputs": [],
   "source": [
    "try:\n",
    "    es.transport.close()\n",
    "except:\n",
    "    pass\n",
    "es = Elasticsearch()"
   ]
  },
  {
   "cell_type": "code",
   "execution_count": 6,
   "id": "0d02e3ba-4094-4685-817e-25c5c6ebb5cf",
   "metadata": {},
   "outputs": [
    {
     "name": "stderr",
     "output_type": "stream",
     "text": [
      "/opt/conda/lib/python3.8/site-packages/elasticsearch/connection/base.py:209: ElasticsearchWarning: Elasticsearch built-in security features are not enabled. Without authentication, your cluster could be accessible to anyone. See https://www.elastic.co/guide/en/elasticsearch/reference/7.15/security-minimal-setup.html to enable security.\n",
      "  warnings.warn(message, category=ElasticsearchWarning)\n"
     ]
    },
    {
     "data": {
      "text/plain": [
       "{'name': '98b1f63e63e9',\n",
       " 'cluster_name': 'elasticsearch',\n",
       " 'cluster_uuid': 'KBJP5UXDQEmZ1yku1tyaIQ',\n",
       " 'version': {'number': '7.15.1',\n",
       "  'build_flavor': 'default',\n",
       "  'build_type': 'deb',\n",
       "  'build_hash': '83c34f456ae29d60e94d886e455e6a3409bba9ed',\n",
       "  'build_date': '2021-10-07T21:56:19.031608185Z',\n",
       "  'build_snapshot': False,\n",
       "  'lucene_version': '8.9.0',\n",
       "  'minimum_wire_compatibility_version': '6.8.0',\n",
       "  'minimum_index_compatibility_version': '6.0.0-beta1'},\n",
       " 'tagline': 'You Know, for Search'}"
      ]
     },
     "execution_count": 6,
     "metadata": {},
     "output_type": "execute_result"
    }
   ],
   "source": [
    "es.info()"
   ]
  },
  {
   "cell_type": "code",
   "execution_count": 7,
   "id": "a51a5726-7e1f-4d5c-b2e7-afe9836c1160",
   "metadata": {},
   "outputs": [
    {
     "name": "stderr",
     "output_type": "stream",
     "text": [
      "<ipython-input-7-a639291b115c>:6: DeprecationWarning: Using positional arguments for APIs is deprecated and will be disabled in 8.0.0. Instead use only keyword arguments for all APIs. See https://github.com/elastic/elasticsearch-py/issues/1698 for more information\n",
      "  if es.indices.exists(INDEX_NAME):\n",
      "<ipython-input-7-a639291b115c>:8: DeprecationWarning: The 'body' parameter is deprecated for the 'create' API and will be removed in a future version. Instead use API parameters directly. See https://github.com/elastic/elasticsearch-py/issues/1698 for more information\n",
      "  es.indices.create(index=INDEX_NAME, body=INDEX_SETTINGS)\n"
     ]
    },
    {
     "data": {
      "text/plain": [
       "{'acknowledged': True, 'shards_acknowledged': True, 'index': 'wiki_index'}"
      ]
     },
     "execution_count": 7,
     "metadata": {},
     "output_type": "execute_result"
    }
   ],
   "source": [
    "#\n",
    "# 인덱스 생성\n",
    "# *인덱스가 이미 존재하면 삭제됨*\n",
    "#\n",
    "\n",
    "if es.indices.exists(INDEX_NAME):\n",
    "    es.indices.delete(index=INDEX_NAME)\n",
    "es.indices.create(index=INDEX_NAME, body=INDEX_SETTINGS)"
   ]
  },
  {
   "cell_type": "markdown",
   "id": "e3f381fb-aad8-4424-a420-792469ceeeea",
   "metadata": {},
   "source": [
    "# 2. 데이터 추가"
   ]
  },
  {
   "cell_type": "code",
   "execution_count": 8,
   "id": "d1a1c4cd-f3c3-4a48-bdc6-4e291a849966",
   "metadata": {},
   "outputs": [
    {
     "name": "stderr",
     "output_type": "stream",
     "text": [
      "  0%|          | 0/56737 [00:00<?, ?it/s]<ipython-input-8-0834f0f292ff>:7: DeprecationWarning: The 'body' parameter is deprecated for the 'index' API and will be removed in a future version. Instead use the 'document' parameter. See https://github.com/elastic/elasticsearch-py/issues/1698 for more information\n",
      "  es.index(index=INDEX_NAME,  id=doc_id, body={'content':doc})\n",
      "100%|██████████| 56737/56737 [04:30<00:00, 209.70it/s]\n"
     ]
    }
   ],
   "source": [
    "#\n",
    "# 데이터 인덱싱\n",
    "# *인덱스 새로 생성했을때만 실행*\n",
    "#\n",
    "\n",
    "for doc_id, doc in enumerate(tqdm(contexts)):\n",
    "    es.index(index=INDEX_NAME,  id=doc_id, body={'content':doc})\n",
    "    #time.sleep(1)"
   ]
  },
  {
   "cell_type": "code",
   "execution_count": 9,
   "id": "36871d17-9b19-4321-b787-91291b6779c9",
   "metadata": {},
   "outputs": [
    {
     "name": "stdout",
     "output_type": "stream",
     "text": [
      "{'_id': '0',\n",
      " '_index': 'wiki_index',\n",
      " '_primary_term': 1,\n",
      " '_seq_no': 0,\n",
      " '_source': {'content': '이 문서는 나라 목록이며, 전 세계 206개 나라의 각 현황과 주권 승인 정보를 개요 형태로 '\n",
      "                        '나열하고 있다.\\n'\n",
      "                        '\\n'\n",
      "                        '이 목록은 명료화를 위해 두 부분으로 나뉘어 있다.\\n'\n",
      "                        '\\n'\n",
      "                        '# 첫 번째 부분은 바티칸 시국과 팔레스타인을 포함하여 유엔 등 국제 기구에 가입되어 국제적인 '\n",
      "                        '승인을 널리 받았다고 여기는 195개 나라를 나열하고 있다.\\n'\n",
      "                        '# 두 번째 부분은 일부 지역의 주권을 사실상 (데 팍토) 행사하고 있지만, 아직 국제적인 '\n",
      "                        '승인을 널리 받지 않았다고 여기는 11개 나라를 나열하고 있다.\\n'\n",
      "                        '\\n'\n",
      "                        '두 목록은 모두 가나다 순이다.\\n'\n",
      "                        '\\n'\n",
      "                        '일부 국가의 경우 국가로서의 자격에 논쟁의 여부가 있으며, 이 때문에 이러한 목록을 엮는 것은 '\n",
      "                        '매우 어렵고 논란이 생길 수 있는 과정이다. 이 목록을 구성하고 있는 국가를 선정하는 기준에 '\n",
      "                        '대한 정보는 \"포함 기준\" 단락을 통해 설명하였다. 나라에 대한 일반적인 정보는 \"국가\" '\n",
      "                        '문서에서 설명하고 있다.'},\n",
      " '_type': '_doc',\n",
      " '_version': 1,\n",
      " 'found': True}\n"
     ]
    }
   ],
   "source": [
    "# 인덱싱한 문서 확인\n",
    "\n",
    "doc = es.get(index=INDEX_NAME, id=0)\n",
    "pprint(doc)"
   ]
  },
  {
   "cell_type": "code",
   "execution_count": 10,
   "id": "b6de6ce1-ac5f-4025-9257-c4cf793dfe48",
   "metadata": {},
   "outputs": [],
   "source": [
    "# \n",
    "\n",
    "#tv = es.termvectors(index=INDEX_NAME, id=0,body={\"fields\" : [\"content\"]})\n",
    "#pprint(tv)"
   ]
  },
  {
   "cell_type": "markdown",
   "id": "b45cd797-34d1-4254-bc78-c1c5cbb94872",
   "metadata": {},
   "source": [
    "# 3. Elastic Search Test"
   ]
  },
  {
   "cell_type": "code",
   "execution_count": 11,
   "id": "34c16aad-ca99-4039-bf1b-9d4bc043a066",
   "metadata": {},
   "outputs": [],
   "source": [
    "from datasets import (\n",
    "    Dataset,\n",
    "    load_from_disk,\n",
    "    concatenate_datasets,\n",
    "    load_metric,\n",
    "    Sequence,\n",
    "    Value,\n",
    "    Features,\n",
    "    Dataset,\n",
    "    DatasetDict,\n",
    ")\n",
    "\n",
    "# 테스트 해볼 데이터\n",
    "datasets = load_from_disk('../../data/train_dataset')"
   ]
  },
  {
   "cell_type": "code",
   "execution_count": 12,
   "id": "1e028853-3a71-4fd4-a3a5-ceeeb09b821f",
   "metadata": {},
   "outputs": [
    {
     "data": {
      "text/plain": [
       "DatasetDict({\n",
       "    train: Dataset({\n",
       "        features: ['__index_level_0__', 'answers', 'context', 'document_id', 'id', 'question', 'title'],\n",
       "        num_rows: 3952\n",
       "    })\n",
       "    validation: Dataset({\n",
       "        features: ['__index_level_0__', 'answers', 'context', 'document_id', 'id', 'question', 'title'],\n",
       "        num_rows: 240\n",
       "    })\n",
       "})"
      ]
     },
     "execution_count": 12,
     "metadata": {},
     "output_type": "execute_result"
    }
   ],
   "source": [
    "datasets"
   ]
  },
  {
   "cell_type": "code",
   "execution_count": 13,
   "id": "e657e160-d49e-4a45-9bec-829a27c5216e",
   "metadata": {},
   "outputs": [
    {
     "name": "stdout",
     "output_type": "stream",
     "text": [
      "'촌락에서 운영 위원 후보자 이름을 쓰기위해 사용된 것은?'\n",
      "('촐라 정부\\\\n 촐라의 정부 체제는 전제군주제였으며,2001 촐라의 군주는 절대적인 권력을 지니고 있었다. 촐라의 왕은 만디르를 자주 '\n",
      " '건설하였는데, 촐라 제국의 만디르는 단순히 종교적 시설로서의 역할뿐만 아니라 경제 활동의 중심지 역할 또한 '\n",
      " '수행하였다.2003\\\\n\\\\n라자라자 촐라 이전에는 수도 근방은 촐라 황제가 통치하고 외곽 지역은 촐라 황제와 유력한 관계를 지녔던 '\n",
      " '벨리르(토후)에 의해 통치되는 봉건제 형식이었지만, 라자라자 1세 이후 촐라 제국의 행정 구역은 8개의 만달람(속주)으로 '\n",
      " '세분화되었는데,2008 만달람은 발라나두(군), 발라나두는 코람(현) 등으로 세분화되었고, 코람은 행정의 가장 작은 단위인 몇 개의 '\n",
      " '촌락으로 세분화되었으며, 촌락은 30여 개의 구로 나뉘어져 있었다.\\\\n\\\\n이들 행정 구역들의 지방관들은 초기에는 중앙정부에 의해 '\n",
      " '임명되었지만 후기에는 그 권한을 세습하였으며, 촌락에서는 행정·물 관리·사법 등 마을에 필요한 위원회를 마련한 후, 각 위원회 운영에 '\n",
      " '참여할 만한 식견을 갖춘 사람의 이름을 나뭇잎에 적어서 어린아이가 제비뽑기를 하는 방식으로 운영 위원을 선출하였으며 촐라 제국의 이 같은 '\n",
      " '자치 제도는 마을 고유의 행정과 문화가 유지되는데 중요한 역할을 했다.')\n"
     ]
    }
   ],
   "source": [
    "from pprint import pprint\n",
    "val_question = datasets['validation']['question']\n",
    "val_context = datasets['validation']['context']\n",
    "pprint(val_question[2])\n",
    "pprint(val_context[2])"
   ]
  },
  {
   "cell_type": "code",
   "execution_count": 15,
   "id": "a70cfa68-9354-4331-a380-86d91a8d765f",
   "metadata": {},
   "outputs": [
    {
     "name": "stdout",
     "output_type": "stream",
     "text": [
      "[query]\n",
      "'징금수는 서양 자수의 어떤 기법과 같은 기술을 사용하는가?'\n",
      "\n",
      "[ground truth]\n",
      "('수를 놓을 때에 사용하는 기법을 문양의 형태에 따라 나누어 보면 선을 잇는 수, 면을 메우는 수, 어떤 무늬를 나타내는 수로 나눌 수 '\n",
      " '있다. 그 종류로는 아주 작은 점으로 표현되는 점수를 비롯해서 선을 표현하는 이음수, 실을 간격이 없이 고루 펴는 평수, 양쪽으로 갈라져 '\n",
      " '있는 잎을 수놓는 가름수, 수평으로 나란히 수놓는 푼사수, 서양 자수의 코칭 스티치와 같은 수법으로 노끈·굵은 실·금사·은사 같은 다른 '\n",
      " '가는 실로 징그어 주는 기법인 징금수, 색의 자연스러운 변화를 표현하는 데 이용되는 자련수, 돗자리의 겉모양을 표현하는 기법인 자릿수, '\n",
      " '겉수의 입체감을 나타내기 위해 양감(量感)을 표현하는 속수, 일정하게 간격을 띄우고 수평으로 수놓는 기법인 관수, 양지관수로 밑수를 '\n",
      " '수놓은 다음 밑수의 색과 유사한 색으로 실과 실사이를 어슷하게 건너주는 엇겨놓기수, 새의 깃털을 표현하는 새털수, 결의 방향을 규칙적으로 '\n",
      " '바꾸어 가며 무늬를 만드는 무늬목수, 삼나무 잎모양처럼 엮어나간 연속무늬의 기법인 삼잎수, 소나무 잎을 수놓을 때 쓰는 솔잎수, '\n",
      " '별모양처럼 표현하는 별무늬수, 금·은사를 사용하여 평사수로 밑수한 위에 징금수하여 기하학적인 문양을 만드는 칠보수 등이 있다.')\n",
      "\n",
      "[searching..] done in 0.163 s\n",
      "\n",
      "[0] ID : 16171, SCORE : 57.05222\n",
      "('수를 놓을 때에 사용하는 기법을 문양의 형태에 따라 나누어 보면 선을 잇는 수, 면을 메우는 수, 어떤 무늬를 나타내는 수로 나눌 수 '\n",
      " '있다. 그 종류로는 아주 작은 점으로 표현되는 점수를 비롯해서 선을 표현하는 이음수, 실을 간격이 없이 고루 펴는 평수, 양쪽으로 갈라져 '\n",
      " '있는 잎을 수놓는 가름수, 수평으로 나란히 수놓는 푼사수, 서양 자수의 코칭 스티치와 같은 수법으로 노끈·굵은 실·금사·은사 같은 다른 '\n",
      " '가는 실로 징그어 주는 기법인 징금수, 색의 자연스러운 변화를 표현하는 데 이용되는 자련수, 돗자리의 겉모양을 표현하는 기법인 자릿수, '\n",
      " '겉수의 입체감을 나타내기 위해 양감(量感)을 표현하는 속수, 일정하게 간격을 띄우고 수평으로 수놓는 기법인 관수, 양지관수로 밑수를 '\n",
      " '수놓은 다음 밑수의 색과 유사한 색으로 실과 실사이를 어슷하게 건너주는 엇겨놓기수, 새의 깃털을 표현하는 새털수, 결의 방향을 규칙적으로 '\n",
      " '바꾸어 가며 무늬를 만드는 무늬목수, 삼나무 잎모양처럼 엮어나간 연속무늬의 기법인 삼잎수, 소나무 잎을 수놓을 때 쓰는 솔잎수, '\n",
      " '별모양처럼 표현하는 별무늬수, 금·은사를 사용하여 평사수로 밑수한 위에 징금수하여 기하학적인 문양을 만드는 칠보수 등이 있다.')\n",
      "\n",
      "[1] ID : 15887, SCORE : 32.632378\n",
      "('흥선대원군 기린흉배(興宣大院君 麒麟胸背)는 흥선대원군의 상복인 아청색 단령에 달았던 흉배이다. 흉배는 관복 중 상복의 가슴과 등에 붙여 '\n",
      " '품계와 등위를 가리는 것이다. 보통 흉배는 단령 색과 같은 색, 같은 옷감에 수를 놓는다.\\n'\n",
      " '\\n'\n",
      " '흉배를 상복에 달기로 정한 것은 단종 2년이다. 경국대전 예전에 의하면 대군은 기린흉배라고 기록되어 있다. 그러므로 흥선대원군의 '\n",
      " '기린흉배는 대원군을 대군의 예우에 따른 것을 보여준다. 이 기린흉배는 아청색 비단에 금사와 은사로 징금수를 놓았다. 문양은 기린을 '\n",
      " '중심으로 좌ㆍ우와 상단에는 운문, 하단에는 구름ㆍ바위ㆍ물결 등을 배치하였다. 크기는 가로 21.5cm, 세로 23cm이고 사방 가장자리는 '\n",
      " '8줄의 금사를 둘렀는데 징금수로 마무리하였으며 자수방법과 문양의 배치가 매우 정교하다. 대군의 기린흉배가 유일하게 보존되어 있다는 '\n",
      " '사실만으로도 중요한 민속자료로서 그 가치가 있다.')\n",
      "\n",
      "[2] ID : 50041, SCORE : 31.970827\n",
      "(\"<자수 '상궁청신녀'명 연화봉황문 방석>은 가운데 홍색 용문단의 십장생 위에 연화봉황무늬를, 가장 자리 녹색 공단에는 모란당초와 \"\n",
      " '연화당초를 배치한 전형적인 형식에 \"상궁청신녀\" 등의 명문을 수놓은 작품이다.\\n'\n",
      " '\\n'\n",
      " '본 유물의 명문은 \"상궁청신녀 임인생 리씨정희행 생전무병소원 사후왕생극락발원\"이라고 수놓여 있어, 제작자와 제작시기 및 제작목적의 추정이 '\n",
      " \"어느 정도 가능하다. 우선 제작자는 상궁이며 '청신녀'라 부르고 법명은 '정희행'이어서 불교 신자임을 알 수 있다. 다음 '임인생'이라는 \"\n",
      " '명문으로 미루어 보아 그녀가 태어난 해는 1782년, 1842년, 1902년이며, 본 유물이 19세기 초 순조와 순원왕후의 둘째딸인 '\n",
      " '복온공주(福溫公主, 1818 ~ 1832)가 길례 때 사용한 방석과 유사하나 좀더 도식화된 점으로 미루어볼 때 1842년생으로 추정된다. '\n",
      " '한편 제작목적의 경우 \"생전무병소원\"과 \"사후왕생극락발원\"이라고 수놓고 있어, 불법에 귀의하여 부처에게 보시한 작품으로 여길 수 있다.\\n'\n",
      " '\\n'\n",
      " '본 유물의 자수 소재는 가운데 부분과 가장자리가 각기 다르다. 홍색 용문단을 바탕으로 삼은 가운데 부분의 하단에는 오색 물결, 수파, '\n",
      " '영지, 바위 등의 십장생문양을 배치하고 중앙부분에 3송이의 연꽃이 피어오르고, 그 좌우로 매화꽃이 활짝 핀 위에 1쌍의 봉황이 마주 '\n",
      " '서있는 모습이 포치되어 있다. 녹색 단을 바탕으로 삼은 가장자리 부분은 상하에는 3송이 연꽃과 2개의 연밥이 당초와 어우러진 연당초 '\n",
      " '문양이고, 좌우에는 모란꽃 3송이를 장식적인 잎사귀로 둘러싸 보문(寶紋)처럼 묘사한 문양이다. 자수는 자릿수와 자련수를 사용하여 소박하게 '\n",
      " '수놓았고, 징금수로 선적인 표현을 강조하고 있다.\\n'\n",
      " '\\n'\n",
      " '본 유물은 복온공주의 길례용 자수방석과 소재의 배치나 자수의 무늬 및 형태가 대체로 유사하여 궁중자수의 일종이라 여겨진다. 다만 도안은 '\n",
      " '딱딱하고 경직되어 있고 금사나 자수실의 꼬임이 약하고 자수기법의 숙련도는 소박한 편이어서 궁중자수의 다양한 수준을 확인할 수 있는 '\n",
      " '자료이다.\\n'\n",
      " '\\n'\n",
      " '본 유물은 명문에 의해 임인생(1842년경) 상궁이 무병장수와 영생극락을 부처에게 발원 제작한 것으로, 제작자와 제작시기를 알 수 있고, '\n",
      " '방석의 형식이나 문양의 소재가 복온공주의 길례용 궁중방석과 양식적으로 유사하다. 그러나 솜씨는 소박한 편이어서 궁중자수의 일면을 확인할 '\n",
      " '수 있는 등 공예사적으로 의미를 지녀 지정문화재로서의 가치가 충분하다고 판단된다.')\n",
      "\n",
      "[3] ID : 13301, SCORE : 25.290176\n",
      "('신경미학(Neuroesthetics)은 비교적 최근에 탄생한 경험적 미학의 한 분과이다. 경험적 미학은 미술과 음악 작품에 대해 인간이 '\n",
      " '느끼는 미적경험을 자연과학적 방법론으로 접근한다. 그 중에서도 특히 신경미학은 인간의 미적경험을 뇌과학적 수준에서 이해하고 설명하기 위해 '\n",
      " '신경과학적 기술을 사용하여 연구한다. 신경미학은 런던대학(University College London)의 신경미학원(The '\n",
      " 'Institute of Neuroesthetics)을 탄생시킨 세미르 제키(Semir Zeki)에 의해 개척되었다.\\n'\n",
      " '\\n'\n",
      " '\\n'\n",
      " '제키는 다음과 같이 말한다.\\n'\n",
      " '\\n'\n",
      " '…예술가들은 인간 뇌의 잠재력과 역량을 탐구한다는 점에서 신경과학자들이라 말할 수 있다. 비록 서로 다른 기술을 사용하지만 말이다. '\n",
      " '어떻게 그러한 그들의 창조물들이 인간의 미학적 경험들을 일으키는가하는 문제는 신경적 용어로만 완전히 이해되고 풀이될 수 있다.\\n'\n",
      " '\\n'\n",
      " '신경미학은 미적 현상의 경험에 대한 반응으로서 나타나는 인간 뇌의 구조물과 활동을 연구한다. 지속적으로 발전하고 있는 기능적 '\n",
      " '자기공명촬영(fMRI)과 같은 뇌영상기법과 유전자 분석은 신경미학적 지식의 발전에 큰 기여를 하고 있다. 예를 들어, 캄페와 그의 '\n",
      " '동료들(Kampe et al, 2001)은 사람은 사진 속 인물의 시선이 자신을 향하고 있을 때 그렇지 않을 때보다 선호도가 더 증가하는 '\n",
      " '것을 보여 주었다.\\n'\n",
      " '\\n'\n",
      " '2005년부터 뇌과학과 미술을 연계시키려는 생각이 국제적인 관심을 끌기 시작하였다. University of East Anglia의 존 '\n",
      " '오니언스(John Onians) 교수는 2008년 출간된 그의 저서, “신경미술사”(Neuroarthistory: from '\n",
      " 'Aristotle and Pliny to Baxandall)에서 그 자신이 신경과학에 치우친 역사적 연구의 최전선에 있다고 말한다. 미국 '\n",
      " '윌리엄 캠벨 갤러리(William Campbell Gallery)의 마크 스미스(Mark S. Smith)와 같은 현대 미술가들은 회화와 '\n",
      " '뇌과학의 집합점을 맵핑하는 작업을 발전시키고 있다. 스미스의 작업은 추상미술에서의 자기표현과 신경 기능 사이의 근원적인 시각적 유사성들을 '\n",
      " '탐구하고 있다.')\n",
      "\n",
      "[4] ID : 50039, SCORE : 25.067183\n",
      "('<자수 연지화조문 방석>의 전체 형태는 82x93cm의 정사각형에 가까운 직사각형이다. 그러나 현재의 유물은 보자기의 일반적인 형태가 '\n",
      " '아니라 본래는 붉은색 무늬 있는 운보문단으로 만든 보료방석의 형태였다. 그런데 이것이 언제부터인가 가장자리에 쪽빛 용문라를 덧대고 뒷면 '\n",
      " '전체를 용문라로 덧대어 수보자기이자 겹보자기 형태로 변형된 것으로 판단된다.\\n'\n",
      " '\\n'\n",
      " '현존하는 유물이 본래 보료방석이었다고 분석하는 이유는 가장 안쪽에 중앙 사각형이 있고 그 네 모서리를 45도씩 모접기를 하였으며, 방석의 '\n",
      " '형태에 해당되는 부분을 따라 황색 실로 면을 구획하고 있기 때문이다. 또한 원래 방석이었던 것을 잘라내고 그 가장자리를 얇은 쪽빛 '\n",
      " '용문라로 감싸고, 뒷부분 전체를 폭이 넓은 93cm로 마감하여 2겹의 보자기로 만든 것을 알 수 있다.\\n'\n",
      " '\\n'\n",
      " '이로 미루어 본 유물은 원래 방석이던 것을 어느 때인가 방석이 헤져서 윗부분을 잘라내고 가장자리나 헤진 곳마다 여러 종류의 서로 다른 '\n",
      " '천을 덧대어 수리하고 있으며, 뒷쪽은 쪽빛 용문라를 덧대어 겹보자기 형태로 만든 것으로 여겨진다. 따라서 이 유물의 가치는 보자기로 바뀐 '\n",
      " '것보다 조선시대 본래의 형태인 자수방석 부분에 있다고 여겨진다.\\n'\n",
      " '\\n'\n",
      " '\"자수방석\"이라는 본 유물은 붉은색 비단으로 만든 방석 중앙과 가장자리의 자수가 수준이 높다. 자수의 소재는 중앙과 가장자리가 약간 '\n",
      " '다르다. 중앙의 경우 모란병풍과 민화풍 화조화를 결합시켜 괴석 위에 모란꽃을 좌우에 배치하고 안쪽에 연꽃을 배치하고, 그 위쪽에는 매화와 '\n",
      " '나비가 날고 있다. 전체적으로 \"연생귀자(連生貴子)\"라는 길상적 주제가 강조되고 있다.\\n'\n",
      " '\\n'\n",
      " '소재는 모란, 연화, 매화 등 꽃이 강조되면서 백색의 새 1쌍을 강조하고 있으며, 각각의 경물은 자릿수와 자련수 기법을 사용하여 정교하고 '\n",
      " '치밀하게 수놓고 있다. 앞쪽 뿐만 아니라 뒤쪽까지도 거의 앞과 동일하여 궁궐 상의원 내 수방 나인들의 뛰어난 궁수의 전형적인 솜씨를 엿볼 '\n",
      " '수 있다. 이와 비교되는 솜씨를 보이는 자수 작품은 세종대 소장 복원공주의 자수작품이 있다. 그만큼 이 작품은 궁수의 우수성을 엿볼 수 '\n",
      " '있는 대표적인 자수이다.\\n'\n",
      " '\\n'\n",
      " '본 유물은 방석을 겹보자기로 만들면서 수리하였음을 확인할 수 있다. 첫째 방석 가장자리의 헤진 부분에 여러 종류의 천을 덧대고 있는데, '\n",
      " '궁궐에서 민간처럼 이렇게 천을 대었을리 만무하다. 둘째 수리를 하면서 덧댄 천의 경우 조선시대보다 시대가 내려가는 천을 사용한 것이 '\n",
      " '엿보여 유물의 가치를 떨어 뜨린다. 셋째 방석의 윗부분만 남기고 아래쪽을 제거한 후 가장자리나 헤진 곳마다 여러 종류의 서로 다른 천을 '\n",
      " '덧대어 수리하면서 듬성듬성 대충 꿰매고 있어, 궁궐 침방의 솜씨로 수리한 것으로 보기 어렵다.\\n'\n",
      " '\\n'\n",
      " '현재 직물이 많이 훼손되어 수리가 시급하고, 이때 원형과 수리 부분에 대한 철저한 조사가 필요하다. 유물의 겉감과 안감 사이의 천 조각에 '\n",
      " '\"孝宗癸巳十月\"이라는 명문이 써 있다. 이 때문에 1653년 10월(효종4년, 계사년)에 제작된 것으로 보지만, 이 또한 다음과 같은 '\n",
      " '문제가 있다.\\n'\n",
      " '\\n'\n",
      " '이 천이 본래 보료방석의 것이 아니라는 점, 나중에 방석을 보자기로 만들 때 덧댄천에 파란실로 꿰매져 있는 점, 일반적으로 제작일을 '\n",
      " '표기할 때 조선시대의 관례라면 \"孝宗癸巳十月日\"이라고 표기해야 한다는 점 등이다. 이로 미루어 볼 때 효종대의 제작이라는 것은 방석을 '\n",
      " '보자기로 바꾼 언젠가의 시점이라고 판단하여 후일에 추가된 것으로 판단하여 논외로 하고자 한다.\\n'\n",
      " '\\n'\n",
      " '본 유물은 본래 보료방석에서 겹보자기로 후일 수리되었음에도 불구하고, 방석 위의 화조무늬는 전통적인 자련수와 자릿수로 치밀하고 정교한 '\n",
      " '자수 솜씨를 보여주며, 궁궐 내 상의원 소속수방 나인이 제작한 최고 수준의 궁궐 자수유물로서 공예사적으로나 자수 기술적으로도 중요한 '\n",
      " '의미를 지녀 지정문화재로서의 가치가 충분하다고 판단된다.')\n",
      "\n"
     ]
    },
    {
     "name": "stderr",
     "output_type": "stream",
     "text": [
      "/opt/conda/lib/python3.8/site-packages/elasticsearch/connection/base.py:209: ElasticsearchWarning: Elasticsearch built-in security features are not enabled. Without authentication, your cluster could be accessible to anyone. See https://www.elastic.co/guide/en/elasticsearch/reference/7.15/security-minimal-setup.html to enable security.\n",
      "  warnings.warn(message, category=ElasticsearchWarning)\n"
     ]
    }
   ],
   "source": [
    "idx = 6\n",
    "k = 5\n",
    "\n",
    "query = val_question[idx]\n",
    "ground_truth = val_context[idx]\n",
    "\n",
    "print(\"[query]\")\n",
    "pprint(query)\n",
    "print()\n",
    "print(\"[ground truth]\")\n",
    "pprint(ground_truth)\n",
    "print()\n",
    "\n",
    "# query에 특수문자가 있으면 특수문자 앞에 \"\\\" 문자 추가\n",
    "patten = '''[-=+,#/\\?:^$.@*\\\"※~&%ㆍ!』\\\\‘|\\(\\)\\[\\]\\<\\>`\\'…》]'''\n",
    "query = re.sub(patten, lambda m: f\"\\{m.group()}\", query)\n",
    "\n",
    "with timer(\"searching..\"):\n",
    "    res = es.search(index=INDEX_NAME, q=query, size=k)\n",
    "print()\n",
    "\n",
    "for i, hit in enumerate(res['hits']['hits']):\n",
    "    print(f\"[{i}] ID : {hit['_id']}, SCORE : {hit['_score']}\")\n",
    "    #pprint(hit['_source']['title'])\n",
    "    pprint(hit['_source']['content'])\n",
    "    print()\n",
    "\n",
    "#res"
   ]
  },
  {
   "cell_type": "code",
   "execution_count": null,
   "id": "216ff715-11b1-47b1-8f7d-773fcae8bc5e",
   "metadata": {},
   "outputs": [],
   "source": []
  },
  {
   "cell_type": "code",
   "execution_count": null,
   "id": "4b8c4c3d-2d4d-47cd-aa1a-06f0ea944a47",
   "metadata": {},
   "outputs": [],
   "source": []
  }
 ],
 "metadata": {
  "kernelspec": {
   "display_name": "Python 3 (ipykernel)",
   "language": "python",
   "name": "python3"
  },
  "language_info": {
   "codemirror_mode": {
    "name": "ipython",
    "version": 3
   },
   "file_extension": ".py",
   "mimetype": "text/x-python",
   "name": "python",
   "nbconvert_exporter": "python",
   "pygments_lexer": "ipython3",
   "version": "3.8.5"
  }
 },
 "nbformat": 4,
 "nbformat_minor": 5
}
