{
 "cells": [
  {
   "cell_type": "markdown",
   "id": "3fdb041f-d38b-4070-be2d-26525914824f",
   "metadata": {},
   "source": [
    "## Create k-fold Dataset"
   ]
  },
  {
   "cell_type": "code",
   "execution_count": 140,
   "id": "940c10dc-4251-4962-be2c-1c905821cfdc",
   "metadata": {},
   "outputs": [],
   "source": [
    "from datasets import load_dataset, load_from_disk\n",
    "import random\n",
    "import numpy as np\n",
    "import datasets\n",
    "\n",
    "import os\n",
    "\n",
    "seed = 42\n",
    "random.seed(seed)\n",
    "np.random.seed(seed)"
   ]
  },
  {
   "cell_type": "markdown",
   "id": "bb5c7abb-aad0-4d64-aad0-a9e7d70ed926",
   "metadata": {},
   "source": [
    "### 데이터셋 로드"
   ]
  },
  {
   "cell_type": "code",
   "execution_count": 141,
   "id": "c713bae9-8951-4a8f-b540-66e18f7876da",
   "metadata": {},
   "outputs": [],
   "source": [
    "train_dataset = load_from_disk(\"../../data/train_dataset\")"
   ]
  },
  {
   "cell_type": "code",
   "execution_count": 142,
   "id": "0646a902-45b0-4b48-aef7-2d5b04fb49ed",
   "metadata": {},
   "outputs": [
    {
     "data": {
      "text/plain": [
       "[DatasetDict({\n",
       "     train: Dataset({\n",
       "         features: ['__index_level_0__', 'answers', 'context', 'document_id', 'id', 'question', 'title'],\n",
       "         num_rows: 3952\n",
       "     })\n",
       "     validation: Dataset({\n",
       "         features: ['__index_level_0__', 'answers', 'context', 'document_id', 'id', 'question', 'title'],\n",
       "         num_rows: 240\n",
       "     })\n",
       " })]"
      ]
     },
     "execution_count": 142,
     "metadata": {},
     "output_type": "execute_result"
    }
   ],
   "source": [
    "# 데이터셋들을 리스트에 추가해주세요\n",
    "# 예시 : [train_dataset, qg_data_v1, qg_data_v1_2]\n",
    "ori_dataset = [train_dataset]\n",
    "\n",
    "# 데이터셋의 validation 데이터가 겹치는 경우 하나만 True로 설정하고 나머지는 False로 설정해주세요\n",
    "add_validation = [True]\n",
    "\n",
    "ori_dataset"
   ]
  },
  {
   "cell_type": "markdown",
   "id": "8a931837-3d80-44f3-b564-aa43ef785a65",
   "metadata": {},
   "source": [
    "### train, validation 데이터 split"
   ]
  },
  {
   "cell_type": "code",
   "execution_count": 143,
   "id": "c3724cb9-c49e-4997-b6f4-8e10cb222981",
   "metadata": {},
   "outputs": [],
   "source": [
    "def createDataDict(k_split, column_list):\n",
    "    if k_split == 0: return {column:[] for column in column_list}\n",
    "    return [{column:[] for column in column_list} for _ in range(k_split)]\n",
    "\n",
    "def addSplitData(split_dataset, dataset, k_split):\n",
    "    index_list = list(range(len(dataset)))\n",
    "    random.shuffle(index_list)\n",
    "    \n",
    "    split_index = np.array_split(index_list, k_split)\n",
    "    for i in range(k_split):\n",
    "        for column in column_list:\n",
    "            split_dataset[i][column].extend(dataset[split_index[i]][column])"
   ]
  },
  {
   "cell_type": "code",
   "execution_count": 144,
   "id": "00f1b4ad-d04e-403b-8e17-7a5b93fc4fca",
   "metadata": {},
   "outputs": [],
   "source": [
    "# 몇 개로 나눌건지 설정해주세요\n",
    "k_split = 5\n",
    "\n",
    "column_list = ['__index_level_0__', 'answers', 'context', 'document_id', 'id', 'question', 'title']\n",
    "\n",
    "split_dataset = createDataDict(k_split, column_list)\n",
    "\n",
    "for dataset, vali in zip(ori_dataset, add_validation):\n",
    "    addSplitData(\n",
    "        split_dataset=split_dataset,\n",
    "        dataset=dataset['train'],\n",
    "        k_split=k_split\n",
    "    )\n",
    "    if not vali: continue\n",
    "    addSplitData(\n",
    "        split_dataset=split_dataset,\n",
    "        dataset=dataset['validation'],\n",
    "        k_split=k_split\n",
    "    )"
   ]
  },
  {
   "cell_type": "code",
   "execution_count": 145,
   "id": "64f08893-38ee-42d6-af68-5e869b21e712",
   "metadata": {},
   "outputs": [
    {
     "data": {
      "text/plain": [
       "839"
      ]
     },
     "execution_count": 145,
     "metadata": {},
     "output_type": "execute_result"
    }
   ],
   "source": [
    "len(split_dataset[0]['title'])"
   ]
  },
  {
   "cell_type": "markdown",
   "id": "2e75d31d-1ff2-471f-a56a-89fb97832ba0",
   "metadata": {},
   "source": [
    "### Folding"
   ]
  },
  {
   "cell_type": "code",
   "execution_count": 146,
   "id": "48698a99-77d1-438f-a3a8-826b704f5406",
   "metadata": {},
   "outputs": [],
   "source": [
    "fold_dataset = [\n",
    "    {\n",
    "        \"train\":createDataDict(0, column_list),\n",
    "        \"validation\":createDataDict(0, column_list),\n",
    "    } for _ in range(k_split)\n",
    "]\n",
    "\n",
    "for i in range(k_split):\n",
    "    # validation 추가\n",
    "    for column in column_list:\n",
    "        fold_dataset[i][\"validation\"][column].extend(split_dataset[i][column])\n",
    "        \n",
    "    # validation 제외 나머지 train으로 추가\n",
    "    for j in range(k_split):\n",
    "        if i == j: continue\n",
    "        for column in column_list:\n",
    "            fold_dataset[i][\"train\"][column].extend(split_dataset[j][column])"
   ]
  },
  {
   "cell_type": "code",
   "execution_count": 147,
   "id": "5c7dd946-c64a-4b31-8ea2-03d6a5a8bbb9",
   "metadata": {},
   "outputs": [
    {
     "data": {
      "text/plain": [
       "(3353, 839)"
      ]
     },
     "execution_count": 147,
     "metadata": {},
     "output_type": "execute_result"
    }
   ],
   "source": [
    "len(fold_dataset[0]['train']['title']), len(fold_dataset[0]['validation']['title'])"
   ]
  },
  {
   "cell_type": "markdown",
   "id": "84067913-5786-4525-9c5e-d68152c7640b",
   "metadata": {},
   "source": [
    "### dataset 저장"
   ]
  },
  {
   "cell_type": "code",
   "execution_count": 148,
   "id": "6fc020a8-6074-45d6-a2ab-ffe85de453e2",
   "metadata": {},
   "outputs": [],
   "source": [
    "for i in range(k_split):\n",
    "    dataset_dict = datasets.DatasetDict({\n",
    "        \"train\": datasets.arrow_dataset.Dataset.from_dict(fold_dataset[i]['train']),\n",
    "        \"validation\": datasets.arrow_dataset.Dataset.from_dict(fold_dataset[i]['validation']),\n",
    "    })\n",
    "\n",
    "    dataset_dict.save_to_disk(os.path.join(\"../../data\", \"fold\"+str(i)))"
   ]
  },
  {
   "cell_type": "code",
   "execution_count": null,
   "id": "595d2d50-5e11-4777-93f1-81fdd8efb27e",
   "metadata": {},
   "outputs": [],
   "source": []
  }
 ],
 "metadata": {
  "kernelspec": {
   "display_name": "Python 3 (ipykernel)",
   "language": "python",
   "name": "python3"
  },
  "language_info": {
   "codemirror_mode": {
    "name": "ipython",
    "version": 3
   },
   "file_extension": ".py",
   "mimetype": "text/x-python",
   "name": "python",
   "nbconvert_exporter": "python",
   "pygments_lexer": "ipython3",
   "version": "3.8.5"
  }
 },
 "nbformat": 4,
 "nbformat_minor": 5
}
