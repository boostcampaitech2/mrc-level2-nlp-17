{
 "cells": [
  {
   "cell_type": "code",
   "execution_count": 92,
   "id": "3c9b3482-cc5e-4b19-9438-0f74a9859bf5",
   "metadata": {},
   "outputs": [],
   "source": [
    "import json\n",
    "import os\n",
    "from collections import defaultdict"
   ]
  },
  {
   "cell_type": "code",
   "execution_count": 93,
   "id": "dfea0178-6d6f-4f82-b1fa-fda6b67f16e5",
   "metadata": {},
   "outputs": [],
   "source": [
    "nbest_predictions = defaultdict(list)\n",
    "for file in os.listdir('./predict'):\n",
    "    if 'nbest_predictions' in file:\n",
    "        with open(os.path.join('./predict',file), \"r\", encoding=\"utf-8\") as f:\n",
    "            nbest_predictiontion = json.load(f)\n",
    "            for key, value in nbest_predictiontion.items():\n",
    "                nbest_predictions[key].extend(value)"
   ]
  },
  {
   "cell_type": "code",
   "execution_count": 94,
   "id": "df8b7a02-abfe-422f-8af9-1ac8810882bb",
   "metadata": {},
   "outputs": [],
   "source": [
    "predictions = {}\n",
    "for k, v in nbest_predictions.items():\n",
    "    text_dict = {}\n",
    "    for value in v:\n",
    "        if value['text'] in text_dict:\n",
    "            text_dict[value['text']] += value['probability']\n",
    "        else:\n",
    "            text_dict[value['text']] = value['probability']\n",
    "    prediction = sorted(text_dict.items(), key=lambda x:x[1], reverse=True)[0]\n",
    "    predictions[k] = prediction[0].strip()"
   ]
  },
  {
   "cell_type": "code",
   "execution_count": 95,
   "id": "c8ce1d2b-f7c7-469e-b317-0a3eaf3fe484",
   "metadata": {},
   "outputs": [],
   "source": [
    "with open(\"predictions.json\", \"w\", encoding=\"utf-8\") as f:\n",
    "    f.write(json.dumps(predictions, indent=4, ensure_ascii=False) + \"\\n\")"
   ]
  },
  {
   "cell_type": "code",
   "execution_count": null,
   "id": "be3573cb-5b7d-4589-9dd9-e9c52c5ef17e",
   "metadata": {},
   "outputs": [],
   "source": []
  },
  {
   "cell_type": "code",
   "execution_count": null,
   "id": "cb8a223c-7199-44cc-9d5d-a6bfa11ef823",
   "metadata": {},
   "outputs": [],
   "source": []
  }
 ],
 "metadata": {
  "kernelspec": {
   "display_name": "Python 3",
   "language": "python",
   "name": "python3"
  },
  "language_info": {
   "codemirror_mode": {
    "name": "ipython",
    "version": 3
   },
   "file_extension": ".py",
   "mimetype": "text/x-python",
   "name": "python",
   "nbconvert_exporter": "python",
   "pygments_lexer": "ipython3",
   "version": "3.8.5"
  }
 },
 "nbformat": 4,
 "nbformat_minor": 5
}
